{
 "cells": [
  {
   "cell_type": "markdown",
   "id": "10193a7f",
   "metadata": {},
   "source": [
    "grab the imports needed to complete this"
   ]
  },
  {
   "cell_type": "code",
   "execution_count": 20,
   "id": "71fec9d4",
   "metadata": {},
   "outputs": [],
   "source": [
    "import pandas as pd\n",
    "import matplotlib.pyplot as plt"
   ]
  },
  {
   "cell_type": "markdown",
   "id": "30d2f1a1",
   "metadata": {},
   "source": [
    "Made all the csv files by doing it in excel"
   ]
  },
  {
   "cell_type": "markdown",
   "id": "32bcd51f",
   "metadata": {},
   "source": [
    "grabbing the data for the april channel"
   ]
  },
  {
   "cell_type": "code",
   "execution_count": 21,
   "id": "01a2bbcb",
   "metadata": {},
   "outputs": [],
   "source": [
    "df = pd.read_csv(\"April_Channels_2021.csv\")"
   ]
  },
  {
   "cell_type": "markdown",
   "id": "12604ae0",
   "metadata": {},
   "source": [
    "grabs the streamers then will grab the cateogry like Total Views and will find the extreme value for that category"
   ]
  },
  {
   "cell_type": "code",
   "execution_count": 26,
   "id": "1851115b",
   "metadata": {},
   "outputs": [],
   "source": [
    "def findExtreme(category,option):\n",
    "    streamers = df['Channel']\n",
    "    #option is a true or false value that will determine to find the highest or lowest\n",
    "    if option:\n",
    "        high = df[category]\n",
    "        top=0\n",
    "        topIndex=[]\n",
    "        for i in range(len(high)):\n",
    "            if high[i] > top:\n",
    "                top=0\n",
    "                topIndex=[]\n",
    "                top=high[i]\n",
    "                topIndex.append(i)\n",
    "            elif high[i] == top:\n",
    "                topIndex.append(i)\n",
    "        for i in topIndex:\n",
    "            print(streamers[i])\n",
    "    else:\n",
    "        low = df[category]\n",
    "        bottom=0\n",
    "        bottomIndex=[]\n",
    "        for i in range(len(low)):\n",
    "            if low[i] < bottom:\n",
    "                bottom=0\n",
    "                bottomIndex=[]\n",
    "                bottom=low[i]\n",
    "                bottomIndex.append(i)\n",
    "            elif low[i] == bottom:\n",
    "                bottomIndex.append(i)\n",
    "        for i in bottomIndex:\n",
    "            print(streamers[i])"
   ]
  },
  {
   "cell_type": "markdown",
   "id": "2fff9aaa",
   "metadata": {},
   "source": [
    "Who had the highest value for:"
   ]
  },
  {
   "cell_type": "code",
   "execution_count": 27,
   "id": "7aa17228",
   "metadata": {},
   "outputs": [
    {
     "name": "stdout",
     "output_type": "stream",
     "text": [
      "Who had the highest value for:\n",
      "Time Streamed:\n",
      "otplol_\n",
      "All-Time Peak Viewers:\n",
      "TheGrefg\n",
      "Hours Watched:\n",
      "xQcOW\n",
      "Total Followers:\n",
      "Ninja\n",
      "Total Views:\n",
      "Fextralife\n"
     ]
    }
   ],
   "source": [
    "questions=(\"Time Streamed\",\"All-Time Peak Viewers\",\"Hours Watched\",\"Total Followers\",\"Total Views\")\n",
    "print(\"Who had the highest value for:\")\n",
    "for i in range(len(questions)):\n",
    "    print(f\"{questions[i]}:\")\n",
    "    findExtreme(questions[i],True)"
   ]
  },
  {
   "cell_type": "markdown",
   "id": "67db4355",
   "metadata": {},
   "source": [
    "Who had the most Followers Gained and the most Followers Lost "
   ]
  },
  {
   "cell_type": "code",
   "execution_count": 7,
   "id": "7b1f95b8",
   "metadata": {},
   "outputs": [
    {
     "name": "stdout",
     "output_type": "stream",
     "text": [
      "Most Followers Lost:\n",
      "sodapoppin\n",
      "Most Followers Gained:\n",
      "AdinRoss\n"
     ]
    }
   ],
   "source": [
    "questions=(\"Followers Lost\",\"Followers Gained\")\n",
    "for i in range(2):\n",
    "    print(f\"Most {questions[i]}:\")\n",
    "    findExtreme(questions[1],i)"
   ]
  },
  {
   "cell_type": "code",
   "execution_count": 8,
   "id": "4b72a7df",
   "metadata": {},
   "outputs": [],
   "source": [
    "def makeGraphs(items,titly,xlab,ylab,thing):\n",
    "    plt.bar(thing,items)\n",
    "    \n",
    "    plt.title(titly,fontsize=9)\n",
    "    plt.xlabel(xlab)\n",
    "    plt.ylabel(ylab)\n",
    "    plt.xticks(rotation='vertical')\n",
    "    plt.show()"
   ]
  },
  {
   "cell_type": "code",
   "execution_count": 9,
   "id": "09ed4e59",
   "metadata": {},
   "outputs": [],
   "source": [
    "def timeAndGained():\n",
    "    streamer=df['Channel']\n",
    "    time = df[\"Time Streamed\"]\n",
    "    gained = df[\"Followers Gained\"]\n",
    "    #making the graphs\n",
    "    plt.scatter(time,gained,)\n",
    "    plt.title(\"Time streamed vs Followers gained\")\n",
    "    plt.xlabel(\"Time Streamed\")\n",
    "    plt.ylabel(\"Followers Gained\")\n",
    "    plt.show()\n"
   ]
  },
  {
   "cell_type": "markdown",
   "id": "7869b973",
   "metadata": {},
   "source": [
    "correlation between Time Streamed and Followers Gained. Answer: there is no correlation"
   ]
  },
  {
   "cell_type": "code",
   "execution_count": 10,
   "id": "4f43d1f9",
   "metadata": {},
   "outputs": [
    {
     "data": {
      "image/png": "[encoded data removed]",
      "text/plain": [
       "<Figure size 432x288 with 1 Axes>"
      ]
     },
     "metadata": {
      "needs_background": "light"
     },
     "output_type": "display_data"
    }
   ],
   "source": [
    "timeAndGained()\n",
    "df = pd.read_csv(\"April_Channels_2021.csv\")"
   ]
  },
  {
   "cell_type": "code",
   "execution_count": 194,
   "id": "dac20385",
   "metadata": {},
   "outputs": [],
   "source": [
    "def hoursWatched(roughly):\n",
    "    avgV = df['Avg. Viewers']\n",
    "    time = df['Time Streamed']\n",
    "    hours = df['Hours Watched']\n",
    "    originalLen=[]\n",
    "    newLen=[]\n",
    "    for i in range(len(avgV)):\n",
    "        temp=avgV[i]*time[i]-hours[i]\n",
    "        originalLen.append(temp)\n",
    "        if abs(temp)<int(roughly):\n",
    "            newLen.append(temp)\n",
    "    print(f\"orignal length {len(originalLen)}, new length {len(newLen)}\")"
   ]
  },
  {
   "cell_type": "markdown",
   "id": "3b4bf488",
   "metadata": {},
   "source": [
    "Do average viewers multiplied by time streamed equate (roughly) to hours watched? \n",
    "Answer: depending on how big you let roughly be (since this is a streaming platform) it could pretty close or if you make it small # for example 10 would have 23 streamer that would fit your definition of roughly"
   ]
  },
  {
   "cell_type": "code",
   "execution_count": 188,
   "id": "c1f85037",
   "metadata": {},
   "outputs": [
    {
     "name": "stdout",
     "output_type": "stream",
     "text": [
      "How big would you like roughly equal 10\n",
      "orignal length 500, new length 23\n"
     ]
    }
   ],
   "source": [
    "hoursWatched(input(\"How big would you like roughly equal \"))"
   ]
  },
  {
   "cell_type": "code",
   "execution_count": 204,
   "id": "bf68a9e2",
   "metadata": {},
   "outputs": [],
   "source": [
    "def peakViewers():\n",
    "    streamer = df[\"Channel\"]\n",
    "    peak= df[\"All-Time Peak Viewers\"]\n",
    "    peakList=[]\n",
    "    streamerList=[]\n",
    "    newPeak=[]\n",
    "    newStreamer=[]\n",
    "    for i in range(len(streamer)):\n",
    "        if i < 10:\n",
    "            peakList.append(peak[i])\n",
    "            newPeak.append(peak[i])\n",
    "            streamerList.append(streamer[i])\n",
    "            newStreamer.append(streamer[i])\n",
    "        if streamer[i] == \"TheGrefg\":\n",
    "            newStreamer.append(streamer[i])\n",
    "            newPeak.append(peak[i])\n",
    "    makeGraphs(peakList,\"top 10 channels and their All-Time Peak Viewers\",\"Streamers\",\"All-Time Peak Viewers\",streamerList)\n",
    "    makeGraphs(newPeak,\"top 10 channels and their All-Time Peak Viewers with TheGrefg\",\"Streamers\",\"All-Time Peak Viewers\",newStreamer)"
   ]
  },
  {
   "cell_type": "markdown",
   "id": "74dc624e",
   "metadata": {},
   "source": [
    "bar chart of the top 10 channels and their All-Time Peak Viewers"
   ]
  },
  {
   "cell_type": "code",
   "execution_count": 205,
   "id": "f8225e5f",
   "metadata": {},
   "outputs": [
    {
     "data": {
      "image/png": "[encoded data removed]",
      "text/plain": [
       "<Figure size 432x288 with 1 Axes>"
      ]
     },
     "metadata": {
      "needs_background": "light"
     },
     "output_type": "display_data"
    },
    {
     "data": {
      "image/png": "[encoded data removed]",
      "text/plain": [
       "<Figure size 432x288 with 1 Axes>"
      ]
     },
     "metadata": {
      "needs_background": "light"
     },
     "output_type": "display_data"
    }
   ],
   "source": [
    "peakViewers()"
   ]
  },
  {
   "cell_type": "code",
   "execution_count": 219,
   "id": "20f5b954",
   "metadata": {},
   "outputs": [],
   "source": [
    "def totalStuff():\n",
    "    #https://stackoverflow.com/questions/21752399/pandas-dataframe-total-row gets the total of a row\n",
    "    df.loc['Total'] = df.sum(numeric_only=True,axis=0)\n",
    "    time = df['Time Streamed'].iloc[-1]\n",
    "    watched = df['Hours Watched'].iloc[-1]\n",
    "    print(f\"total time people streamed on Twitch {time}, total hours watched on Twitch {watched}\")"
   ]
  },
  {
   "cell_type": "markdown",
   "id": "4c3f79c3",
   "metadata": {},
   "source": [
    "total time people streamed on Twitch | total hours watched on Twitch"
   ]
  },
  {
   "cell_type": "code",
   "execution_count": 220,
   "id": "94ae7510",
   "metadata": {},
   "outputs": [
    {
     "name": "stdout",
     "output_type": "stream",
     "text": [
      "total time people streamed on Twitch 144053.6, total hours watched on Twitch 1659948838.0\n"
     ]
    }
   ],
   "source": [
    "totalStuff()\n",
    "df = pd.read_csv(\"April_Channels_2021.csv\")"
   ]
  },
  {
   "cell_type": "code",
   "execution_count": 225,
   "id": "9b02b7c6",
   "metadata": {},
   "outputs": [],
   "source": [
    "def march():\n",
    "    total = df[\"Total Followers\"]\n",
    "    gained = df[\"Followers Gained\"]\n",
    "    streaemr=df[\"Channel\"]\n",
    "    top=0\n",
    "    topIndex=[]\n",
    "    for i in range(len(total)):\n",
    "        marchGains=total[i]-gained[i]\n",
    "        if marchGains > top:\n",
    "            top=0\n",
    "            topIndex=[]\n",
    "            top=marchGains\n",
    "            topIndex.append(i)\n",
    "        elif marchGains == top:\n",
    "            topIndex.append(i)\n",
    "    for i in topIndex:\n",
    "        print(f\"highest amount of followers during March: {streamers[i]}\")"
   ]
  },
  {
   "cell_type": "markdown",
   "id": "b29be23a",
   "metadata": {},
   "source": [
    "Who had the highest amount of followers during the month of March"
   ]
  },
  {
   "cell_type": "code",
   "execution_count": 226,
   "id": "8001df04",
   "metadata": {},
   "outputs": [
    {
     "name": "stdout",
     "output_type": "stream",
     "text": [
      "highest amount of followers during March: Ninja\n"
     ]
    }
   ],
   "source": [
    "march()"
   ]
  }
 ],
 "metadata": {
  "kernelspec": {
   "display_name": "Python 3 (ipykernel)",
   "language": "python",
   "name": "python3"
  },
  "language_info": {
   "codemirror_mode": {
    "name": "ipython",
    "version": 3
   },
   "file_extension": ".py",
   "mimetype": "text/x-python",
   "name": "python",
   "nbconvert_exporter": "python",
   "pygments_lexer": "ipython3",
   "version": "3.9.7"
  }
 },
 "nbformat": 4,
 "nbformat_minor": 5
}
