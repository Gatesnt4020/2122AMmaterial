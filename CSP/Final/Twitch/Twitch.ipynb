{
 "cells": [
  {
   "cell_type": "code",
   "execution_count": 1,
   "id": "27cd7cf6",
   "metadata": {},
   "outputs": [],
   "source": [
    "import pandas as pd\n",
    "import matplotlib.pyplot as plt"
   ]
  },
  {
   "cell_type": "code",
   "execution_count": 3,
   "id": "8f577149",
   "metadata": {},
   "outputs": [
    {
     "name": "stdout",
     "output_type": "stream",
     "text": [
      "                                         Game Title   January  February  \\\n",
      "0                             007: Agent Under Fire  109987.0       NaN   \n",
      "1                                       60 Parsecs!       NaN       NaN   \n",
      "2                                       60 Seconds!   17611.0    6505.0   \n",
      "3                                  7 Billion Humans       NaN       NaN   \n",
      "4                                     7 Days to Die    3765.0    4777.0   \n",
      "...                                             ...       ...       ...   \n",
      "1533                Zelda II: The Adventure of Link       NaN       NaN   \n",
      "1534              Zero Escape: Virtue's Last Reward       NaN       NaN   \n",
      "1535                              Zero Time Dilemma       NaN       NaN   \n",
      "1536  Zettai Zetsumei Toshi 4 Plus: Summer Memories       NaN       NaN   \n",
      "1537             Zone of the Enders: The 2nd Runner  107214.0       NaN   \n",
      "\n",
      "        March   April     May    June    July   August  September  October  \\\n",
      "0         NaN     NaN     NaN     NaN     NaN      NaN        NaN      NaN   \n",
      "1         NaN     NaN     NaN     NaN     NaN      NaN    31960.0      NaN   \n",
      "2     32289.0  6138.0  9110.0     NaN     NaN  18245.0        NaN      NaN   \n",
      "3         NaN     NaN     NaN     NaN     NaN   5487.0        NaN      NaN   \n",
      "4      1889.0  8754.0  7885.0  3807.0  3218.0   6816.0     2131.0   1860.0   \n",
      "...       ...     ...     ...     ...     ...      ...        ...      ...   \n",
      "1533   2790.0     NaN     NaN     NaN     NaN      NaN        NaN      NaN   \n",
      "1534   5548.0  3970.0     NaN     NaN  4133.0      NaN        NaN      NaN   \n",
      "1535   6397.0     NaN     NaN     NaN     NaN      NaN        NaN      NaN   \n",
      "1536      NaN     NaN     NaN     NaN     NaN      NaN        NaN      NaN   \n",
      "1537      NaN     NaN     NaN     NaN     NaN      NaN        NaN      NaN   \n",
      "\n",
      "      November  December  \n",
      "0          NaN       NaN  \n",
      "1          NaN   15473.0  \n",
      "2          NaN       NaN  \n",
      "3          NaN       NaN  \n",
      "4       8877.0   25079.0  \n",
      "...        ...       ...  \n",
      "1533    6607.0       NaN  \n",
      "1534       NaN       NaN  \n",
      "1535       NaN       NaN  \n",
      "1536    8453.0       NaN  \n",
      "1537       NaN       NaN  \n",
      "\n",
      "[1538 rows x 13 columns]\n"
     ]
    }
   ],
   "source": [
    "df = pd.read_csv(\"Twitch_2018.csv\",header=0)\n",
    "print(df)"
   ]
  },
  {
   "cell_type": "code",
   "execution_count": null,
   "id": "3c9eeb83",
   "metadata": {},
   "outputs": [],
   "source": []
  }
 ],
 "metadata": {
  "kernelspec": {
   "display_name": "Python 3 (ipykernel)",
   "language": "python",
   "name": "python3"
  },
  "language_info": {
   "codemirror_mode": {
    "name": "ipython",
    "version": 3
   },
   "file_extension": ".py",
   "mimetype": "text/x-python",
   "name": "python",
   "nbconvert_exporter": "python",
   "pygments_lexer": "ipython3",
   "version": "3.9.7"
  }
 },
 "nbformat": 4,
 "nbformat_minor": 5
}
