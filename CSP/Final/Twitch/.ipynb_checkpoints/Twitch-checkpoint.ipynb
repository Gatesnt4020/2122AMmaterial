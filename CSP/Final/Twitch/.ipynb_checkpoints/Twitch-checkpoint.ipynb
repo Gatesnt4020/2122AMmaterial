{
 "cells": [
  {
   "cell_type": "markdown",
   "id": "10193a7f",
   "metadata": {},
   "source": [
    "grab the imports needed to complete this"
   ]
  },
  {
   "cell_type": "code",
   "execution_count": 2,
   "id": "71fec9d4",
   "metadata": {},
   "outputs": [],
   "source": [
    "import pandas as pd\n",
    "import matplotlib.pyplot as plt"
   ]
  },
  {
   "cell_type": "markdown",
   "id": "32bcd51f",
   "metadata": {},
   "source": [
    "grabbing the data for the april channel"
   ]
  },
  {
   "cell_type": "code",
   "execution_count": 7,
   "id": "01a2bbcb",
   "metadata": {},
   "outputs": [
    {
     "name": "stdout",
     "output_type": "stream",
     "text": [
      "     Rank         Channel  Avg. Viewers  Time Streamed  All-Time Peak Viewers  \\\n",
      "0      #1           xQcOW         89542          333.7                 222720   \n",
      "1      #2      tommyinnit        258561           10.9                 650237   \n",
      "2      #3       auronplay        115660           87.0                 313347   \n",
      "3      #4      RanbooLive         85632          145.9                 346132   \n",
      "4      #5  GeorgeNotFound        168391            9.6                 307439   \n",
      "..    ...             ...           ...            ...                    ...   \n",
      "495  #496        singsing          4054          190.4                  24068   \n",
      "496  #497          uhSnow          4790          135.5                  36954   \n",
      "497  #498     los_jotinha          5280          117.8                  15225   \n",
      "498  #499     momo_sports          6653           57.3                  21197   \n",
      "499  #500          ScreaM          8992           11.1                  27007   \n",
      "\n",
      "     Hours Watched  Followers Gained  Total Followers  Total Views  \\\n",
      "0         29880024          -2454132          5558385    331965084   \n",
      "1          2822624            462438          5102244     44524063   \n",
      "2         10066242            435339          8368359    129448575   \n",
      "3         12496595            438160          2567938     33990085   \n",
      "4          1610944            157766          3335146     14148526   \n",
      "..             ...               ...              ...          ...   \n",
      "495         771853             -8380           587531     91867822   \n",
      "496         648957              5320           169326     10168408   \n",
      "497         621974             87369           101861       432767   \n",
      "498         380844              4624            38877      3653347   \n",
      "499         100019             14612          1211759     27587428   \n",
      "\n",
      "     Unnamed: 9                                        Unnamed: 10  \n",
      "0           NaN  Glossary - All stats are for the month of Apri...  \n",
      "1           NaN  Rank - based on average concurrent viewers, fo...  \n",
      "2           NaN  Avg. Viewers - Average number of viewers per s...  \n",
      "3           NaN  Time Streamed - Total time (in hours) streamed...  \n",
      "4           NaN  All-Time Peak Viewers - Peak number of viewers...  \n",
      "..          ...                                                ...  \n",
      "495         NaN                                                NaN  \n",
      "496         NaN                                                NaN  \n",
      "497         NaN                                                NaN  \n",
      "498         NaN                                                NaN  \n",
      "499         NaN                                                NaN  \n",
      "\n",
      "[500 rows x 11 columns]\n"
     ]
    }
   ],
   "source": [
    "df = pd.read_csv(\"April_Channels_2021.csv\")\n",
    "print(df)"
   ]
  },
  {
   "cell_type": "markdown",
   "id": "12604ae0",
   "metadata": {},
   "source": [
    "grabs the streamers then will grab the cateogry like Total Views and will find the highest value for that category"
   ]
  },
  {
   "cell_type": "code",
   "execution_count": 9,
   "id": "1851115b",
   "metadata": {},
   "outputs": [],
   "source": [
    "streamers = df['Channel']\n",
    "def findextreme(category,option):\n",
    "    #option is a true or false value that will determine to find the highest or lowest\n",
    "    if option:\n",
    "        high = df[category]\n",
    "        top=NaN\n",
    "        topIndex=[]\n",
    "        for i in range(len(high)):\n",
    "            if high[i] >= top:\n",
    "                top=0\n",
    "                topIndex=[]\n",
    "                top=high[i]\n",
    "                topIndex.append(i)\n",
    "            elif high[i] == top:\n",
    "                topIndex.append(i)\n",
    "        for i in topIndex:\n",
    "            print(streamers[i])"
   ]
  },
  {
   "cell_type": "markdown",
   "id": "2fff9aaa",
   "metadata": {},
   "source": [
    "has a sequence of what to find and runs through a loop to print the question and the highest value"
   ]
  },
  {
   "cell_type": "code",
   "execution_count": 10,
   "id": "7aa17228",
   "metadata": {},
   "outputs": [
    {
     "name": "stdout",
     "output_type": "stream",
     "text": [
      "Who had the highest value for:\n",
      "Time Streamed:\n"
     ]
    },
    {
     "ename": "NameError",
     "evalue": "name 'NaN' is not defined",
     "output_type": "error",
     "traceback": [
      "\u001b[1;31m---------------------------------------------------------------------------\u001b[0m",
      "\u001b[1;31mNameError\u001b[0m                                 Traceback (most recent call last)",
      "\u001b[1;32mC:\\Users\\YOUNGL~1\\AppData\\Local\\Temp/ipykernel_15004/3131432834.py\u001b[0m in \u001b[0;36m<module>\u001b[1;34m\u001b[0m\n\u001b[0;32m      3\u001b[0m \u001b[1;32mfor\u001b[0m \u001b[0mi\u001b[0m \u001b[1;32min\u001b[0m \u001b[0mrange\u001b[0m\u001b[1;33m(\u001b[0m\u001b[0mlen\u001b[0m\u001b[1;33m(\u001b[0m\u001b[0mquestions\u001b[0m\u001b[1;33m)\u001b[0m\u001b[1;33m)\u001b[0m\u001b[1;33m:\u001b[0m\u001b[1;33m\u001b[0m\u001b[1;33m\u001b[0m\u001b[0m\n\u001b[0;32m      4\u001b[0m     \u001b[0mprint\u001b[0m\u001b[1;33m(\u001b[0m\u001b[0mquestions\u001b[0m\u001b[1;33m[\u001b[0m\u001b[0mi\u001b[0m\u001b[1;33m]\u001b[0m\u001b[1;33m+\u001b[0m\u001b[1;34m\":\"\u001b[0m\u001b[1;33m)\u001b[0m\u001b[1;33m\u001b[0m\u001b[1;33m\u001b[0m\u001b[0m\n\u001b[1;32m----> 5\u001b[1;33m     \u001b[0mfindextreme\u001b[0m\u001b[1;33m(\u001b[0m\u001b[0mquestions\u001b[0m\u001b[1;33m[\u001b[0m\u001b[0mi\u001b[0m\u001b[1;33m]\u001b[0m\u001b[1;33m,\u001b[0m\u001b[1;32mTrue\u001b[0m\u001b[1;33m)\u001b[0m\u001b[1;33m\u001b[0m\u001b[1;33m\u001b[0m\u001b[0m\n\u001b[0m",
      "\u001b[1;32mC:\\Users\\YOUNGL~1\\AppData\\Local\\Temp/ipykernel_15004/4138821681.py\u001b[0m in \u001b[0;36mfindextreme\u001b[1;34m(category, option)\u001b[0m\n\u001b[0;32m      4\u001b[0m     \u001b[1;32mif\u001b[0m \u001b[0moption\u001b[0m\u001b[1;33m:\u001b[0m\u001b[1;33m\u001b[0m\u001b[1;33m\u001b[0m\u001b[0m\n\u001b[0;32m      5\u001b[0m         \u001b[0mhigh\u001b[0m \u001b[1;33m=\u001b[0m \u001b[0mdf\u001b[0m\u001b[1;33m[\u001b[0m\u001b[0mcategory\u001b[0m\u001b[1;33m]\u001b[0m\u001b[1;33m\u001b[0m\u001b[1;33m\u001b[0m\u001b[0m\n\u001b[1;32m----> 6\u001b[1;33m         \u001b[0mtop\u001b[0m\u001b[1;33m=\u001b[0m\u001b[0mNaN\u001b[0m\u001b[1;33m\u001b[0m\u001b[1;33m\u001b[0m\u001b[0m\n\u001b[0m\u001b[0;32m      7\u001b[0m         \u001b[0mtopIndex\u001b[0m\u001b[1;33m=\u001b[0m\u001b[1;33m[\u001b[0m\u001b[1;33m]\u001b[0m\u001b[1;33m\u001b[0m\u001b[1;33m\u001b[0m\u001b[0m\n\u001b[0;32m      8\u001b[0m         \u001b[1;32mfor\u001b[0m \u001b[0mi\u001b[0m \u001b[1;32min\u001b[0m \u001b[0mrange\u001b[0m\u001b[1;33m(\u001b[0m\u001b[0mlen\u001b[0m\u001b[1;33m(\u001b[0m\u001b[0mhigh\u001b[0m\u001b[1;33m)\u001b[0m\u001b[1;33m)\u001b[0m\u001b[1;33m:\u001b[0m\u001b[1;33m\u001b[0m\u001b[1;33m\u001b[0m\u001b[0m\n",
      "\u001b[1;31mNameError\u001b[0m: name 'NaN' is not defined"
     ]
    }
   ],
   "source": [
    "questions=(\"Time Streamed\",\"All-Time Peak Viewers\",\"Hours Watched\",\"Total Followers\",\"Total Views\")\n",
    "print(\"Who had the highest value for:\")\n",
    "for i in range(len(questions)):\n",
    "    print(questions[i]+\":\")\n",
    "    findextreme(questions[i],True)"
   ]
  },
  {
   "cell_type": "code",
   "execution_count": null,
   "id": "3d55cd3b",
   "metadata": {},
   "outputs": [],
   "source": []
  }
 ],
 "metadata": {
  "kernelspec": {
   "display_name": "Python 3 (ipykernel)",
   "language": "python",
   "name": "python3"
  },
  "language_info": {
   "codemirror_mode": {
    "name": "ipython",
    "version": 3
   },
   "file_extension": ".py",
   "mimetype": "text/x-python",
   "name": "python",
   "nbconvert_exporter": "python",
   "pygments_lexer": "ipython3",
   "version": "3.9.7"
  }
 },
 "nbformat": 4,
 "nbformat_minor": 5
}
