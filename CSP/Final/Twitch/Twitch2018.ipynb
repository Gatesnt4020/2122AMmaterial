{
 "cells": [
  {
   "cell_type": "code",
   "execution_count": 44,
   "id": "584ae4f5",
   "metadata": {},
   "outputs": [],
   "source": [
    "import pandas as pd\n",
    "import matplotlib.pyplot as plt\n",
    "import math"
   ]
  },
  {
   "cell_type": "code",
   "execution_count": 2,
   "id": "15ab9bee",
   "metadata": {},
   "outputs": [],
   "source": [
    "df = pd.read_csv(\"Twitch_2018.csv\")"
   ]
  },
  {
   "cell_type": "code",
   "execution_count": 3,
   "id": "4adeca49",
   "metadata": {},
   "outputs": [],
   "source": [
    "def monthly():\n",
    "    dfa = df.copy()\n",
    "    dfa = dfa.dropna()\n",
    "    games=[]\n",
    "    for i in dfa[\"Game Title\"]:\n",
    "        games.append(i)\n",
    "    for i in games:\n",
    "        print(i,end=\", \")"
   ]
  },
  {
   "cell_type": "markdown",
   "id": "617bbeff",
   "metadata": {},
   "source": [
    "Which games made the top 500 every month of 2018? (Which games had values for each month in the Peak Viewers Per Month tab?)"
   ]
  },
  {
   "cell_type": "code",
   "execution_count": 4,
   "id": "6789e10a",
   "metadata": {},
   "outputs": [
    {
     "name": "stdout",
     "output_type": "stream",
     "text": [
      "7 Days to Die, Age of Empires II, Alien: Isolation, Always On, Arena of Valor, ARK, Arma 3, Battlefield 1, Battlerite, Black Desert Online, Black Squad, Blade and Soul, Bloodborne, Board Games, Borderlands 2, Brawlhalla, Call of Duty: Black Ops III, Celeste, Chess, Cities: Skylines, Clash Royale, Counter-Strike: Global Offensive, Cuphead, Dark Souls, Dark Souls II: Scholar of the First Sin, Dark Souls III, Darkest Dungeon, Dauntless, DayZ, Dead by Daylight, Dead Cells, Deceit, Destiny 2, Diablo II: Lord of Destruction, Diablo III: Reaper of Souls, Divinity: Original Sin II, Dofus, Don't Starve Together, Dota 2, Dragon Ball FighterZ, Dungeons & Dragons, Dying Light, Elite: Dangerous, Enter the Gungeon, Escape From Tarkov, Eternal, Euro Truck Simulator 2, Europa Universalis IV, EVE Online, Factorio, Fallout 4, Fate/Grand Order, Final Fantasy VII, FINAL FANTASY XIV Online, For Honor, Fortnite, Friday the 13th: The Game, FTL: Faster Than Light, Games + Demos, Garry's Mod, Gears of War 4, Girls Frontline, Golf It!, Golf With Your Friends, Grand Theft Auto V, Grand Theft Auto: San Andreas, Guild Wars 2, Guitar Hero III: Legends of Rock, Gwent: The Witcher Card Game, Halo 5: Guardians, Hearthstone, Hearts of Iron IV, Heroes of Might and Magic III: The Shadow of Death, Heroes of Newerth, Heroes of the Storm, Hollow Knight, Human: Fall Flat, Hunt: Showdown, I Wanna Be The Guy, Infestation: The New Z, iRacing.com, Kerbal Space Program, Kingdom Hearts HD I.5 + II.5 Remix, Knight Online, League of Legends, Left 4 Dead 2, Life Is Strange, Lineage II, M.U.G.E.N, Magic: The Gathering, MapleStory, Mario Kart 8, MechWarrior Online, Metin 2, Microsoft Flight Simulator X, Minecraft, Monster Hunter World, Music & Performing Arts, My Summer Car, Neverwinter, Nioh, osu!, Outlast, Overwatch, Oxygen Not Included, Paladins, Path of Exile, Persona 5, PLAYERUNKNOWN'S BATTLEGROUNDS, Pokémon Ultra Sun/Ultra Moon, Poker, Prime World, Quake Champions, Ragnarok Online, Resident Evil 4, Resident Evil 7 biohazard, Retro, RimWorld, ROBLOX, Rocket League, RuneScape, Rust, Sea of Thieves, Shadowverse, Sid Meier's Civilization V, Slay the Spire, Smite, Splatoon 2, Star Citizen, StarCraft, StarCraft II, Stardew Valley, Street Fighter V, Subnautica, Summoners War: Sky Arena, Super Mario 64, Super Mario Maker, Super Mario Odyssey, Super Mario World, Super Metroid, Super Smash Bros. for Wii U, Super Smash Bros. Melee, Talk Shows & Podcasts, Team Fortress 2, Tekken 7, Terraria, The Binding of Isaac: Afterbirth, The Elder Scrolls Online, The Elder Scrolls V: Skyrim, The Elder Scrolls: Legends, The Forest, The Jackbox Party Pack 3, The Jackbox Party Pack 4, The Last of Us, The Legend of Zelda: A Link to the Past, The Legend of Zelda: Breath of the Wild, The Legend of Zelda: Majora's Mask, The Legend of Zelda: Ocarina of Time, The Sims 4, The Witcher 3: Wild Hunt, They Are Billions, Throne of Lies: The Online Game of Deceit, Tibia, Tom Clancy's Rainbow Six: Siege, Tom Clancy's The Division, Total War: Warhammer II, Twitch Plays, Undertale, Until Dawn, VRChat, War Thunder, Warcraft III: The Frozen Throne, Warframe, World of Tanks, World of Warcraft, World of Warships, Wrestling, XCOM 2, XCOM 2: War of the Chosen, Yakuza 0, Yu-Gi-Oh! Duel Links, Z1 Battle Royale, "
     ]
    }
   ],
   "source": [
    "monthly()"
   ]
  },
  {
   "cell_type": "code",
   "execution_count": 5,
   "id": "9f000ea0",
   "metadata": {},
   "outputs": [],
   "source": [
    "def ViewMax(month):\n",
    "    high = df[month]\n",
    "    game= df['Game Title']\n",
    "    top=0\n",
    "    topIndex=[]\n",
    "    for i in range(len(high)):\n",
    "        if high[i] > top:\n",
    "            top=0\n",
    "            topIndex=[]\n",
    "            top=high[i]\n",
    "            topIndex.append(i)\n",
    "        elif high[i] == top:\n",
    "            topIndex.append(i)\n",
    "    for i in topIndex:\n",
    "        print(f\"{month}: {game[i]}\")"
   ]
  },
  {
   "cell_type": "markdown",
   "id": "e03233bd",
   "metadata": {},
   "source": [
    "\n",
    "Which game had the Max Viewers for each Month?  \n",
    "    Output Example:\n",
    "    January: Game\n",
    "    Februrary: Game\n",
    "    March: Game\n",
    "etc etc etc\n"
   ]
  },
  {
   "cell_type": "code",
   "execution_count": 6,
   "id": "f294f4a5",
   "metadata": {},
   "outputs": [
    {
     "name": "stdout",
     "output_type": "stream",
     "text": [
      "January: Counter-Strike: Global Offensive\n",
      "February: PLAYERUNKNOWN'S BATTLEGROUNDS\n",
      "March: Fortnite\n",
      "April: Fortnite\n",
      "May: Fortnite\n",
      "June: E3 2018\n",
      "July: Fortnite\n",
      "August: Boxing Fight\n",
      "September: Counter-Strike: Global Offensive\n",
      "October: League of Legends\n",
      "November: League of Legends\n",
      "December: The Game Awards\n"
     ]
    }
   ],
   "source": [
    "months=['January', 'February', 'March', 'April', 'May', 'June', 'July', 'August', 'September', 'October', 'November', 'December']\n",
    "for i in months:\n",
    "    ViewMax(i)"
   ]
  },
  {
   "cell_type": "code",
   "execution_count": 7,
   "id": "844d51b3",
   "metadata": {
    "scrolled": true
   },
   "outputs": [],
   "source": [
    "def popular(game):\n",
    "    dfa = df.copy()\n",
    "    title=dfa['Game Title']\n",
    "    dfa.loc[:,'Row Total'] = dfa.sum(skipna=True, axis=1)\n",
    "    totalView=0\n",
    "    for i in range(len(title)):\n",
    "        if game in title[i]:\n",
    "            value = dfa['Row Total'][i]\n",
    "            totalView+=value\n",
    "    return totalView"
   ]
  },
  {
   "cell_type": "code",
   "execution_count": 8,
   "id": "d6a0e1b7",
   "metadata": {},
   "outputs": [],
   "source": [
    "def makeGraphs(items,titly,xlab,ylab,thing,option):\n",
    "    if option:\n",
    "        plt.bar(thing,items)\n",
    "        plt.xlabel(xlab)\n",
    "        plt.ylabel(ylab)\n",
    "        plt.xticks(rotation='vertical')\n",
    "    else:\n",
    "        plt.pie(items,labels=thing,autopct='%1.1f%%')\n",
    "    plt.title(titly,fontsize=9)\n",
    "    plt.legend(bbox_to_anchor=(1.1,1.05))\n",
    "    plt.show()"
   ]
  },
  {
   "cell_type": "markdown",
   "id": "d0dee21a",
   "metadata": {},
   "source": [
    "According to this data, which game series was more popular during the year of 2018:\n",
    "Call of Duty\n",
    "Battlefield\n",
    "FIFA\n",
    "GTA\n",
    "Mario\n",
    "Pokemon\n",
    "Final Fantasy\n",
    "*** Use a Pie Chart to support your answer ***   "
   ]
  },
  {
   "cell_type": "code",
   "execution_count": 9,
   "id": "338ad408",
   "metadata": {},
   "outputs": [
    {
     "name": "stderr",
     "output_type": "stream",
     "text": [
      "C:\\Users\\YOUNGL~1\\AppData\\Local\\Temp/ipykernel_13956/2823051288.py:4: FutureWarning: Dropping of nuisance columns in DataFrame reductions (with 'numeric_only=None') is deprecated; in a future version this will raise TypeError.  Select only valid columns before calling the reduction.\n",
      "  dfa.loc[:,'Row Total'] = dfa.sum(skipna=True, axis=1)\n",
      "C:\\Users\\YOUNGL~1\\AppData\\Local\\Temp/ipykernel_13956/2823051288.py:4: FutureWarning: Dropping of nuisance columns in DataFrame reductions (with 'numeric_only=None') is deprecated; in a future version this will raise TypeError.  Select only valid columns before calling the reduction.\n",
      "  dfa.loc[:,'Row Total'] = dfa.sum(skipna=True, axis=1)\n",
      "C:\\Users\\YOUNGL~1\\AppData\\Local\\Temp/ipykernel_13956/2823051288.py:4: FutureWarning: Dropping of nuisance columns in DataFrame reductions (with 'numeric_only=None') is deprecated; in a future version this will raise TypeError.  Select only valid columns before calling the reduction.\n",
      "  dfa.loc[:,'Row Total'] = dfa.sum(skipna=True, axis=1)\n",
      "C:\\Users\\YOUNGL~1\\AppData\\Local\\Temp/ipykernel_13956/2823051288.py:4: FutureWarning: Dropping of nuisance columns in DataFrame reductions (with 'numeric_only=None') is deprecated; in a future version this will raise TypeError.  Select only valid columns before calling the reduction.\n",
      "  dfa.loc[:,'Row Total'] = dfa.sum(skipna=True, axis=1)\n",
      "C:\\Users\\YOUNGL~1\\AppData\\Local\\Temp/ipykernel_13956/2823051288.py:4: FutureWarning: Dropping of nuisance columns in DataFrame reductions (with 'numeric_only=None') is deprecated; in a future version this will raise TypeError.  Select only valid columns before calling the reduction.\n",
      "  dfa.loc[:,'Row Total'] = dfa.sum(skipna=True, axis=1)\n",
      "C:\\Users\\YOUNGL~1\\AppData\\Local\\Temp/ipykernel_13956/2823051288.py:4: FutureWarning: Dropping of nuisance columns in DataFrame reductions (with 'numeric_only=None') is deprecated; in a future version this will raise TypeError.  Select only valid columns before calling the reduction.\n",
      "  dfa.loc[:,'Row Total'] = dfa.sum(skipna=True, axis=1)\n",
      "C:\\Users\\YOUNGL~1\\AppData\\Local\\Temp/ipykernel_13956/2823051288.py:4: FutureWarning: Dropping of nuisance columns in DataFrame reductions (with 'numeric_only=None') is deprecated; in a future version this will raise TypeError.  Select only valid columns before calling the reduction.\n",
      "  dfa.loc[:,'Row Total'] = dfa.sum(skipna=True, axis=1)\n",
      "C:\\Users\\YOUNGL~1\\AppData\\Local\\Temp/ipykernel_13956/2823051288.py:4: FutureWarning: Dropping of nuisance columns in DataFrame reductions (with 'numeric_only=None') is deprecated; in a future version this will raise TypeError.  Select only valid columns before calling the reduction.\n",
      "  dfa.loc[:,'Row Total'] = dfa.sum(skipna=True, axis=1)\n"
     ]
    },
    {
     "data": {
      "image/png": "[encoded data removed]",
      "text/plain": [
       "<Figure size 432x288 with 1 Axes>"
      ]
     },
     "metadata": {},
     "output_type": "display_data"
    }
   ],
   "source": [
    "games=[\"Call of Duty\",\"Battlefield\",\"FIFA\",\"GTA\",\"Mario\",\"Pokemon\",\"Final Fantasy\",\"Pokémon\"]\n",
    "values=[]\n",
    "for i in games:\n",
    "    values.append(popular(i))\n",
    "makeGraphs(values,\"game series was more popular during the year of 2018\",None,None,games,False)"
   ]
  },
  {
   "cell_type": "code",
   "execution_count": 10,
   "id": "fdd5ef6f",
   "metadata": {},
   "outputs": [],
   "source": [
    "def worseLegoGame(game):\n",
    "    dfa = df.copy()\n",
    "    title=dfa['Game Title']\n",
    "    dfa.loc[:,'Row Total'] = dfa.sum(skipna=True, axis=1)\n",
    "    low = dfa['Row Total']\n",
    "    uni = dfa['Row Total'].unique()\n",
    "    uni.sort()\n",
    "    bottom=uni[-1]\n",
    "    bottomIndex=[]\n",
    "    for i in range(len(low)):\n",
    "        if game in title[i]:\n",
    "            if low[i] < bottom:\n",
    "                bottom=0\n",
    "                bottomIndex=[]\n",
    "                bottom=low[i]\n",
    "                bottomIndex.append(i)\n",
    "            elif low[i] == bottom:\n",
    "                bottomIndex.append(i)\n",
    "    for i in bottomIndex:\n",
    "        print(f\"{title[i]} with a total view of {low[i]}\")"
   ]
  },
  {
   "cell_type": "markdown",
   "id": "05aa7f23",
   "metadata": {},
   "source": [
    "Which Lego game was the least popular throughout 2018?"
   ]
  },
  {
   "cell_type": "code",
   "execution_count": 11,
   "id": "6f819876",
   "metadata": {},
   "outputs": [
    {
     "name": "stdout",
     "output_type": "stream",
     "text": [
      "LEGO Star Wars: The Complete Saga with a total view of 12131.0\n"
     ]
    },
    {
     "name": "stderr",
     "output_type": "stream",
     "text": [
      "C:\\Users\\YOUNGL~1\\AppData\\Local\\Temp/ipykernel_13956/2554386648.py:5: FutureWarning: Dropping of nuisance columns in DataFrame reductions (with 'numeric_only=None') is deprecated; in a future version this will raise TypeError.  Select only valid columns before calling the reduction.\n",
      "  dfa.loc[:,'Row Total'] = dfa.sum(skipna=True, axis=1)\n"
     ]
    }
   ],
   "source": [
    "worseLegoGame('LEGO')"
   ]
  },
  {
   "cell_type": "code",
   "execution_count": 12,
   "id": "ff56255c",
   "metadata": {},
   "outputs": [],
   "source": [
    "def mostMonth(option):\n",
    "    if option:\n",
    "        months=['January', 'February', 'March', 'April', 'May', 'June', 'July', 'August', 'September', 'October', 'November', 'December']\n",
    "        dfa = df.copy()\n",
    "        dfa.loc['Total'] = dfa.sum(skipna=True,axis=0)\n",
    "        del dfa['Game Title']\n",
    "        values=[]\n",
    "        top=0\n",
    "        topIndex=[]\n",
    "        for i in dfa.loc[\"Total\"]:\n",
    "            values.append(i)\n",
    "        for i in range(len(values)):\n",
    "            if values[i] > top:\n",
    "                topIndex=[]\n",
    "                topIndex.append(i)\n",
    "                top=values[i]\n",
    "        for i in topIndex:\n",
    "            print(f\"{months[i]}: viewers {values[i]}\")\n",
    "    else:\n",
    "        months=['January', 'February', 'March', 'April', 'May', 'June', 'July', 'August', 'September', 'October', 'November', 'December']\n",
    "        dfa = df.copy()\n",
    "        dfa.loc['Total'] = dfa.sum(skipna=True,axis=0)\n",
    "        del dfa['Game Title']\n",
    "        values=[]\n",
    "        top=0\n",
    "        topIndex=[]\n",
    "        for i in dfa.loc[\"Total\"]:\n",
    "            values.append(i)\n",
    "        makeGraphs(values,\"a graph to show which month has the highest volume of viewers\",\"Month\",\"Viewers\",months,True)"
   ]
  },
  {
   "cell_type": "markdown",
   "id": "142c7d11",
   "metadata": {},
   "source": [
    "Which month had the most viewers?"
   ]
  },
  {
   "cell_type": "code",
   "execution_count": 13,
   "id": "671ade03",
   "metadata": {},
   "outputs": [
    {
     "name": "stdout",
     "output_type": "stream",
     "text": [
      "January: viewers 25767838.0\n"
     ]
    }
   ],
   "source": [
    "mostMonth(True)"
   ]
  },
  {
   "cell_type": "markdown",
   "id": "0c854363",
   "metadata": {},
   "source": [
    "a graph to show which month has the highest volume of viewers \n",
    "answer: becauase twitch spammer headed to jail during january"
   ]
  },
  {
   "cell_type": "code",
   "execution_count": 14,
   "id": "bd37a459",
   "metadata": {},
   "outputs": [
    {
     "name": "stderr",
     "output_type": "stream",
     "text": [
      "No artists with labels found to put in legend.  Note that artists whose label start with an underscore are ignored when legend() is called with no argument.\n"
     ]
    },
    {
     "data": {
      "image/png": "[encoded data removed]",
      "text/plain": [
       "<Figure size 432x288 with 1 Axes>"
      ]
     },
     "metadata": {
      "needs_background": "light"
     },
     "output_type": "display_data"
    }
   ],
   "source": [
    "mostMonth(False)"
   ]
  },
  {
   "cell_type": "markdown",
   "id": "c07ee692",
   "metadata": {},
   "source": [
    "What is Pokémon: Let’s Go, Pikachu!/Eevee! ? Answer: Nintendo Switch remakes of the first generation of Pokemon games from 1996"
   ]
  },
  {
   "cell_type": "markdown",
   "id": "0a646578",
   "metadata": {},
   "source": [
    "Is your favorite game on this list? Answer: Yes"
   ]
  },
  {
   "cell_type": "code",
   "execution_count": 59,
   "id": "17836f39",
   "metadata": {},
   "outputs": [
    {
     "name": "stdout",
     "output_type": "stream",
     "text": [
      "[1817345. 1862675. 1966707. 2023443. 2519435. 2985486. 3763906. 5030780.\n",
      " 6398598. 8360933.]\n",
      "0       109987.0\n",
      "1            NaN\n",
      "2        17611.0\n",
      "3            NaN\n",
      "4         3765.0\n",
      "          ...   \n",
      "1533         NaN\n",
      "1534         NaN\n",
      "1535         NaN\n",
      "1536         NaN\n",
      "1537    107214.0\n",
      "Name: January, Length: 1538, dtype: float64\n",
      "0       109987.0\n",
      "1            NaN\n",
      "2        17611.0\n",
      "3            NaN\n",
      "4         3765.0\n",
      "          ...   \n",
      "1533         NaN\n",
      "1534         NaN\n",
      "1535         NaN\n",
      "1536         NaN\n",
      "1537    107214.0\n",
      "Name: January, Length: 1538, dtype: float64\n"
     ]
    },
    {
     "name": "stderr",
     "output_type": "stream",
     "text": [
      "C:\\Users\\YOUNGL~1\\AppData\\Local\\Temp/ipykernel_13956/2152558984.py:3: FutureWarning: Dropping of nuisance columns in DataFrame reductions (with 'numeric_only=None') is deprecated; in a future version this will raise TypeError.  Select only valid columns before calling the reduction.\n",
      "  dfa.loc[:,'Row Total'] = dfa.sum(skipna=True, axis=1)\n"
     ]
    },
    {
     "ename": "TypeError",
     "evalue": "string indices must be integers",
     "output_type": "error",
     "traceback": [
      "\u001b[1;31m---------------------------------------------------------------------------\u001b[0m",
      "\u001b[1;31mTypeError\u001b[0m                                 Traceback (most recent call last)",
      "\u001b[1;32mC:\\Users\\YOUNGL~1\\AppData\\Local\\Temp/ipykernel_13956/2152558984.py\u001b[0m in \u001b[0;36m<module>\u001b[1;34m\u001b[0m\n\u001b[0;32m     26\u001b[0m                 \u001b[0mmonthData\u001b[0m\u001b[1;33m[\u001b[0m\u001b[0mi\u001b[0m\u001b[1;33m]\u001b[0m\u001b[1;33m.\u001b[0m\u001b[0mappend\u001b[0m\u001b[1;33m(\u001b[0m\u001b[1;36m0\u001b[0m\u001b[1;33m)\u001b[0m\u001b[1;33m\u001b[0m\u001b[1;33m\u001b[0m\u001b[0m\n\u001b[0;32m     27\u001b[0m \u001b[1;33m\u001b[0m\u001b[0m\n\u001b[1;32m---> 28\u001b[1;33m \u001b[0mtopTen\u001b[0m\u001b[1;33m(\u001b[0m\u001b[1;33m)\u001b[0m\u001b[1;33m\u001b[0m\u001b[1;33m\u001b[0m\u001b[0m\n\u001b[0m",
      "\u001b[1;32mC:\\Users\\YOUNGL~1\\AppData\\Local\\Temp/ipykernel_13956/2152558984.py\u001b[0m in \u001b[0;36mtopTen\u001b[1;34m()\u001b[0m\n\u001b[0;32m     22\u001b[0m             \u001b[0mprint\u001b[0m\u001b[1;33m(\u001b[0m\u001b[0mdfa\u001b[0m\u001b[1;33m[\u001b[0m\u001b[0mmonths\u001b[0m\u001b[1;33m[\u001b[0m\u001b[0mi\u001b[0m\u001b[1;33m]\u001b[0m\u001b[1;33m]\u001b[0m\u001b[1;33m)\u001b[0m\u001b[1;33m\u001b[0m\u001b[1;33m\u001b[0m\u001b[0m\n\u001b[0;32m     23\u001b[0m             \u001b[1;32mif\u001b[0m \u001b[1;32mnot\u001b[0m\u001b[1;33m(\u001b[0m\u001b[0mmath\u001b[0m\u001b[1;33m.\u001b[0m\u001b[0misnan\u001b[0m \u001b[1;33m(\u001b[0m\u001b[0mdfa\u001b[0m\u001b[1;33m[\u001b[0m\u001b[0mmonths\u001b[0m\u001b[1;33m[\u001b[0m\u001b[0mi\u001b[0m\u001b[1;33m]\u001b[0m\u001b[1;33m]\u001b[0m\u001b[1;33m[\u001b[0m\u001b[0mj\u001b[0m\u001b[1;33m]\u001b[0m\u001b[1;33m)\u001b[0m\u001b[1;33m)\u001b[0m\u001b[1;33m:\u001b[0m\u001b[1;33m\u001b[0m\u001b[1;33m\u001b[0m\u001b[0m\n\u001b[1;32m---> 24\u001b[1;33m                 \u001b[0mmonthData\u001b[0m\u001b[1;33m[\u001b[0m\u001b[0mi\u001b[0m\u001b[1;33m]\u001b[0m\u001b[1;33m.\u001b[0m\u001b[0mappend\u001b[0m\u001b[1;33m(\u001b[0m\u001b[0mdfa\u001b[0m\u001b[1;33m[\u001b[0m\u001b[0mmonths\u001b[0m\u001b[1;33m[\u001b[0m\u001b[0mi\u001b[0m\u001b[1;33m]\u001b[0m\u001b[1;33m[\u001b[0m\u001b[0mj\u001b[0m\u001b[1;33m]\u001b[0m\u001b[1;33m]\u001b[0m\u001b[1;33m)\u001b[0m\u001b[1;33m\u001b[0m\u001b[1;33m\u001b[0m\u001b[0m\n\u001b[0m\u001b[0;32m     25\u001b[0m             \u001b[1;32melse\u001b[0m\u001b[1;33m:\u001b[0m\u001b[1;33m\u001b[0m\u001b[1;33m\u001b[0m\u001b[0m\n\u001b[0;32m     26\u001b[0m                 \u001b[0mmonthData\u001b[0m\u001b[1;33m[\u001b[0m\u001b[0mi\u001b[0m\u001b[1;33m]\u001b[0m\u001b[1;33m.\u001b[0m\u001b[0mappend\u001b[0m\u001b[1;33m(\u001b[0m\u001b[1;36m0\u001b[0m\u001b[1;33m)\u001b[0m\u001b[1;33m\u001b[0m\u001b[1;33m\u001b[0m\u001b[0m\n",
      "\u001b[1;31mTypeError\u001b[0m: string indices must be integers"
     ]
    }
   ],
   "source": [
    "def topTen():\n",
    "    dfa = df.copy()\n",
    "    dfa.loc[:,'Row Total'] = dfa.sum(skipna=True, axis=1)\n",
    "    uni=dfa[\"Row Total\"].unique()\n",
    "    uni.sort()\n",
    "    top = uni[-10:]\n",
    "    topIndex=[]\n",
    "    games=[]\n",
    "    month=[]\n",
    "    months=['January', 'February', 'March', 'April', 'May', 'June', 'July', 'August', 'September', 'October', 'November', 'December']\n",
    "    monthData=[]\n",
    "    for i in range(12):\n",
    "        month.append(i+1)\n",
    "    for i in top:\n",
    "        topIndex.append(dfa.index[dfa[\"Row Total\"]==i].tolist())\n",
    "    for i in topIndex:\n",
    "        games.append(df.loc[i,\"Game Title\"].item())\n",
    "    print(top)\n",
    "    for i in range(len(months)):\n",
    "        monthData.append([])\n",
    "        for j in topIndex:\n",
    "            print(dfa[months[i]])\n",
    "            if not(math.isnan (dfa[months[i]][j])):\n",
    "                monthData[i].append(dfa[months[i][j]])\n",
    "            else:\n",
    "                monthData[i].append(0)\n",
    "        \n",
    "topTen()"
   ]
  },
  {
   "cell_type": "markdown",
   "id": "24364962",
   "metadata": {},
   "source": [
    "Recreate the graph in Python so it only shows the top 10 games "
   ]
  },
  {
   "cell_type": "code",
   "execution_count": null,
   "id": "a22374a5",
   "metadata": {},
   "outputs": [],
   "source": []
  }
 ],
 "metadata": {
  "kernelspec": {
   "display_name": "Python 3 (ipykernel)",
   "language": "python",
   "name": "python3"
  },
  "language_info": {
   "codemirror_mode": {
    "name": "ipython",
    "version": 3
   },
   "file_extension": ".py",
   "mimetype": "text/x-python",
   "name": "python",
   "nbconvert_exporter": "python",
   "pygments_lexer": "ipython3",
   "version": "3.9.7"
  }
 },
 "nbformat": 4,
 "nbformat_minor": 5
}
