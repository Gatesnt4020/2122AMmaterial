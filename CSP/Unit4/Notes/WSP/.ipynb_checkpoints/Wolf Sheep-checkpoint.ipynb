{
 "cells": [
  {
   "cell_type": "code",
   "execution_count": 3,
   "id": "4472c816",
   "metadata": {},
   "outputs": [],
   "source": [
    "import pandas as pd\n",
    "import matplotlib.pyplot as plt"
   ]
  },
  {
   "attachments": {},
   "cell_type": "markdown",
   "id": "d9be5369",
   "metadata": {},
   "source": [
    "### Model Settings\n",
    "- wolf-gain-from-food\t= 20\n",
    "- show-energy?\t= FALSE\n",
    "- initial-number-wolves\t= 50\n",
    "- wolf-reproduce\t= 5\n",
    "- initial-number-sheep\t= 100\n",
    "- model-version\t= \"sheep-wolves\"\n",
    "- sheep-gain-from-food\t= 4\n",
    "- grass-regrowth-time\t= 30\n",
    "- sheep-reproduce\t= 4"
   ]
  },
  {
   "cell_type": "code",
   "execution_count": 12,
   "id": "8656cf5b",
   "metadata": {},
   "outputs": [],
   "source": [
    "def findStuff(FILENAME):\n",
    "    df = pd.read_csv(FILENAME,header=0)\n",
    "    sheep=df['sheepY']\n",
    "    wolf=df['wolfY']\n",
    "    sheepMax=sheep.max()\n",
    "    sheepMin=sheep.max()\n",
    "    sheepAve=sheep.mean()\n",
    "    print(\"sheep \",sheepMax,sheepMin,round(sheepAve))\n",
    "    wolfMax=wolf.max()\n",
    "    wolfMin=wolf.max()\n",
    "    wolfAve=wolf.mean()\n",
    "    print(\"wolf \",wolfMax,wolfMin,round(wolfAve))\n",
    "    print(sheep)"
   ]
  },
  {
   "cell_type": "code",
   "execution_count": 14,
   "id": "36c9a82b",
   "metadata": {},
   "outputs": [
    {
     "name": "stdout",
     "output_type": "stream",
     "text": [
      "sheep  31161 31161 2226\n",
      "wolf  418 418 76\n",
      "0        100\n",
      "1        104\n",
      "2        106\n",
      "3        108\n",
      "4        112\n",
      "       ...  \n",
      "371    26636\n",
      "372    27690\n",
      "373    28777\n",
      "374    29947\n",
      "375    31161\n",
      "Name: sheepY, Length: 376, dtype: int64\n"
     ]
    }
   ],
   "source": [
    "findStuff(\"sheepwin.csv\")"
   ]
  },
  {
   "cell_type": "code",
   "execution_count": null,
   "id": "2b4dd883",
   "metadata": {},
   "outputs": [],
   "source": []
  }
 ],
 "metadata": {
  "kernelspec": {
   "display_name": "Python 3 (ipykernel)",
   "language": "python",
   "name": "python3"
  },
  "language_info": {
   "codemirror_mode": {
    "name": "ipython",
    "version": 3
   },
   "file_extension": ".py",
   "mimetype": "text/x-python",
   "name": "python",
   "nbconvert_exporter": "python",
   "pygments_lexer": "ipython3",
   "version": "3.9.7"
  }
 },
 "nbformat": 4,
 "nbformat_minor": 5
}
