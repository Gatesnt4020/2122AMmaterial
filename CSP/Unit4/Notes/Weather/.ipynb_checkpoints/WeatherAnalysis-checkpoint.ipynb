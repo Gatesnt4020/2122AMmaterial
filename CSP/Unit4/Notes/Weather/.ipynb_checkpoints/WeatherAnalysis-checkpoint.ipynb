{
 "cells": [
  {
   "cell_type": "markdown",
   "id": "eef7e1a0",
   "metadata": {},
   "source": [
    "### used the weather data that we made from class "
   ]
  },
  {
   "cell_type": "code",
   "execution_count": 64,
   "id": "2ae96fab",
   "metadata": {},
   "outputs": [
    {
     "name": "stdout",
     "output_type": "stream",
     "text": [
      "           DATE  PRCP  SNWD  SNOW  TAVG  TMAX  TMIN  TOBS\n",
      "0      19480101  1.17   0.0   0.7 -9999    62    26 -9999\n",
      "1      19480102  0.00   0.0   0.0 -9999    31    27 -9999\n",
      "2      19480103  0.00   0.0   0.0 -9999    38    23 -9999\n",
      "3      19480104  0.07   0.0   0.0 -9999    37    32 -9999\n",
      "4      19480105  0.00   0.0   0.0 -9999    42    28 -9999\n",
      "...         ...   ...   ...   ...   ...   ...   ...   ...\n",
      "27024  20211227  0.00   0.0   0.0    62    72    48 -9999\n",
      "27025  20211228  0.48   0.0   0.0    51    66    43 -9999\n",
      "27026  20211229  0.09   0.0   0.0    48    51    39 -9999\n",
      "27027  20211230  0.00   0.0   0.0    46    49    44 -9999\n",
      "27028  20211231  0.21   0.0   0.0    53    66    49 -9999\n",
      "\n",
      "[27029 rows x 8 columns]\n"
     ]
    }
   ],
   "source": [
    "import pandas as pd\n",
    "\n",
    "df = pd.read_csv(\"CleanData.csv\",header=0)\n",
    "print(df)"
   ]
  },
  {
   "cell_type": "markdown",
   "id": "a8872ba8",
   "metadata": {},
   "source": [
    "# Cleaning the data"
   ]
  },
  {
   "cell_type": "code",
   "execution_count": 65,
   "id": "2d48530e",
   "metadata": {
    "scrolled": true
   },
   "outputs": [
    {
     "name": "stdout",
     "output_type": "stream",
     "text": [
      "[-9999     0]\n",
      "       PRCP  SNWD  SNOW  TAVG  TMAX  TMIN  YEAR MONTH DAY\n",
      "0      1.17   0.0   0.7   NaN    62    26  1948    01  01\n",
      "1      0.00   0.0   0.0   NaN    31    27  1948    01  02\n",
      "2      0.00   0.0   0.0   NaN    38    23  1948    01  03\n",
      "3      0.07   0.0   0.0   NaN    37    32  1948    01  04\n",
      "4      0.00   0.0   0.0   NaN    42    28  1948    01  05\n",
      "...     ...   ...   ...   ...   ...   ...   ...   ...  ..\n",
      "27024  0.00   0.0   0.0  62.0    72    48  2021    12  27\n",
      "27025  0.48   0.0   0.0  51.0    66    43  2021    12  28\n",
      "27026  0.09   0.0   0.0  48.0    51    39  2021    12  29\n",
      "27027  0.00   0.0   0.0  46.0    49    44  2021    12  30\n",
      "27028  0.21   0.0   0.0  53.0    66    49  2021    12  31\n",
      "\n",
      "[27029 rows x 9 columns]\n"
     ]
    }
   ],
   "source": [
    "try:\n",
    "    print(df['TOBS'].unique())\n",
    "    #since TOBS data is filled with mostly bad or useless data we can drop the row\n",
    "    del df['TOBS']\n",
    "except:\n",
    "    print()\n",
    "#https://stackoverflow.com/questions/39217347/how-to-split-number-to-separate-columns-in-pandas-dataframe\n",
    "#Thanks Brandon for sending me the link\n",
    "# make string version of original column, call it 'DATES'\n",
    "df['DATES'] = df['DATE'].astype(str)\n",
    "# make the new columns using string indexing\n",
    "df['YEAR'] = df['DATES'].str[:4]\n",
    "df['MONTH'] = df['DATES'].str[4:6]\n",
    "df['DAY'] = df['DATES'].str[6:8]\n",
    "del df['DATE']\n",
    "del df['DATES']\n",
    "\n",
    "df['TAVG'] = df['TAVG'].replace(-9999,\"\")\n",
    "df['TAVG'] = pd.to_numeric(df['TAVG'],errors='coerce')\n",
    "#research how to drop a column in Pandas.... hint you will use the word drop"
   ]
  },
  {
   "cell_type": "code",
   "execution_count": null,
   "id": "427fb916",
   "metadata": {},
   "outputs": [],
   "source": []
  }
 ],
 "metadata": {
  "kernelspec": {
   "display_name": "Python 3 (ipykernel)",
   "language": "python",
   "name": "python3"
  },
  "language_info": {
   "codemirror_mode": {
    "name": "ipython",
    "version": 3
   },
   "file_extension": ".py",
   "mimetype": "text/x-python",
   "name": "python",
   "nbconvert_exporter": "python",
   "pygments_lexer": "ipython3",
   "version": "3.9.7"
  }
 },
 "nbformat": 4,
 "nbformat_minor": 5
}
