{
 "cells": [
  {
   "cell_type": "markdown",
   "id": "a8077dc1",
   "metadata": {},
   "source": [
    "### used the file that we "
   ]
  },
  {
   "cell_type": "code",
   "execution_count": 4,
   "id": "0413585a",
   "metadata": {},
   "outputs": [
    {
     "name": "stdout",
     "output_type": "stream",
     "text": [
      "           DATE  PRCP  SNWD  SNOW  TAVG  TMAX  TMIN  TOBS\n",
      "0      19480101  1.17   0.0   0.7 -9999    62    26 -9999\n",
      "1      19480102  0.00   0.0   0.0 -9999    31    27 -9999\n",
      "2      19480103  0.00   0.0   0.0 -9999    38    23 -9999\n",
      "3      19480104  0.07   0.0   0.0 -9999    37    32 -9999\n",
      "4      19480105  0.00   0.0   0.0 -9999    42    28 -9999\n",
      "...         ...   ...   ...   ...   ...   ...   ...   ...\n",
      "27024  20211227  0.00   0.0   0.0    62    72    48 -9999\n",
      "27025  20211228  0.48   0.0   0.0    51    66    43 -9999\n",
      "27026  20211229  0.09   0.0   0.0    48    51    39 -9999\n",
      "27027  20211230  0.00   0.0   0.0    46    49    44 -9999\n",
      "27028  20211231  0.21   0.0   0.0    53    66    49 -9999\n",
      "\n",
      "[27029 rows x 8 columns]\n"
     ]
    }
   ],
   "source": [
    "import pandas as pd\n",
    "\n",
    "df = pd.read_csv(\"CleanData.csv\",header=0)\n",
    "print(df)"
   ]
  },
  {
   "cell_type": "code",
   "execution_count": 5,
   "id": "1da2dac8",
   "metadata": {},
   "outputs": [
    {
     "name": "stdout",
     "output_type": "stream",
     "text": [
      "0\n",
      "[-9999     0]\n"
     ]
    }
   ],
   "source": [
    "for item in df['TOBS']:\n",
    "    if item!= -9999:\n",
    "        print(item)\n",
    "        \n",
    "print(df['TOBS'].unique())\n",
    "\n",
    "#research how to drop a column in Pandas.... hint you will use the word drop"
   ]
  },
  {
   "cell_type": "code",
   "execution_count": null,
   "id": "8ee06458",
   "metadata": {},
   "outputs": [],
   "source": []
  }
 ],
 "metadata": {
  "kernelspec": {
   "display_name": "Python 3 (ipykernel)",
   "language": "python",
   "name": "python3"
  },
  "language_info": {
   "codemirror_mode": {
    "name": "ipython",
    "version": 3
   },
   "file_extension": ".py",
   "mimetype": "text/x-python",
   "name": "python",
   "nbconvert_exporter": "python",
   "pygments_lexer": "ipython3",
   "version": "3.9.7"
  }
 },
 "nbformat": 4,
 "nbformat_minor": 5
}
