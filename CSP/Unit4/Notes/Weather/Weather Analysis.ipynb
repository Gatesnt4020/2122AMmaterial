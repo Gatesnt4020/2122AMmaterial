{
 "cells": [
  {
   "cell_type": "markdown",
   "id": "b64db1ee",
   "metadata": {},
   "source": [
    "# I used the weather data we clean with excel in class"
   ]
  },
  {
   "cell_type": "code",
   "execution_count": null,
   "id": "b0f12174",
   "metadata": {},
   "outputs": [],
   "source": [
    "import pandas as pd\n",
    "import matplotlib.pyplot as plt\n",
    "\n",
    "df = pd.read_csv(\"CleanData.csv\",header=0)\n",
    "print(df)"
   ]
  },
  {
   "cell_type": "markdown",
   "id": "31513026",
   "metadata": {},
   "source": [
    "# Cleaning the data"
   ]
  },
  {
   "cell_type": "code",
   "execution_count": null,
   "id": "2667a73d",
   "metadata": {},
   "outputs": [],
   "source": [
    "try:\n",
    "    #print(df['TOBS'].unique())\n",
    "    #since TOBS data is filled with mostly bad or useless data we can drop the row\n",
    "    del df['TOBS']\n",
    "    #https://stackoverflow.com/questions/39217347/how-to-split-number-to-separate-columns-in-pandas-dataframe\n",
    "    #Thanks Brandon for sending me the link\n",
    "    # make string version of original column, call it 'DATES'\n",
    "    df['DATES'] = df['DATE'].astype(str)\n",
    "    # make the new columns using string indexing\n",
    "    df['YEAR'] = df['DATES'].str[:4]\n",
    "    df['MONTH'] = df['DATES'].str[4:6]\n",
    "    df['DAY'] = df['DATES'].str[6:8]\n",
    "    del df['DATE']\n",
    "    del df['DATES']\n",
    "\n",
    "    df['TAVG'] = df['TAVG'].replace(-9999,\"\")\n",
    "    df['TAVG'] = pd.to_numeric(df['TAVG'],errors='coerce')\n",
    "    df['PRCP'] = df['PRCP'].replace(-9999,\"\")\n",
    "    df['PRCP'] = pd.to_numeric(df['PRCP'],errors='coerce')\n",
    "    df['SNWD'] = df['SNWD'].replace(-9999,\"\")\n",
    "    df['SNWD'] = pd.to_numeric(df['SNWD'],errors='coerce')\n",
    "    df['SNOW'] = df['SNOW'].replace(-9999,\"\")\n",
    "    df['SNOW'] = pd.to_numeric(df['SNOW'],errors='coerce')\n",
    "    df['TMAX'] = df['TMAX'].replace(-9999,\"\")\n",
    "    df['TMAX'] = pd.to_numeric(df['TMAX'],errors='coerce')\n",
    "    df['TMIN'] = df['TMIN'].replace(-9999,\"\")\n",
    "    df['TMIN'] = pd.to_numeric(df['TMIN'],errors='coerce')\n",
    "    #research how to drop a column in Pandas.... hint you will use the word drop\n",
    "except:\n",
    "    print(\"Please run the code above\")\n"
   ]
  },
  {
   "cell_type": "markdown",
   "id": "3fc2c07c",
   "metadata": {},
   "source": [
    "# Precipitation analysis"
   ]
  },
  {
   "cell_type": "markdown",
   "id": "fbe6b012",
   "metadata": {},
   "source": [
    "- Bar graph of total precipitation in each year"
   ]
  },
  {
   "cell_type": "code",
   "execution_count": null,
   "id": "cf94b8df",
   "metadata": {},
   "outputs": [],
   "source": [
    "data=[]\n",
    "unq = df.YEAR.unique()\n",
    "unq.sort()\n",
    "for i in unq:\n",
    "    data.append([i,0])\n",
    "years= df['YEAR']\n",
    "amount= df['PRCP']\n",
    "for i in range(len(years)):\n",
    "    for j in range(len(data)):\n",
    "        if years[i] == data[j][0]:\n",
    "            data[j] = [data[j][0],data[j][1]+amount[i]]\n",
    "            break\n",
    "#print(data)"
   ]
  },
  {
   "cell_type": "code",
   "execution_count": null,
   "id": "2b11fdd3",
   "metadata": {},
   "outputs": [],
   "source": [
    "newData = sorted(data, key=lambda l:l[1])\n",
    "for i in range(len(data)):\n",
    "    plt.bar(newData[i][0], newData[i][1])\n",
    "plt.xticks(rotation = 90,fontsize=8)\n",
    "plt.show()"
   ]
  },
  {
   "cell_type": "markdown",
   "id": "946921f9",
   "metadata": {},
   "source": [
    " - Bar graph of total precipitation during the month of January overtime"
   ]
  },
  {
   "cell_type": "code",
   "execution_count": null,
   "id": "3f088a09",
   "metadata": {},
   "outputs": [],
   "source": [
    "data=[]\n",
    "unq = df.YEAR.unique()\n",
    "unq.sort()\n",
    "for i in unq:\n",
    "    data.append([i,0])\n",
    "years= df['YEAR']\n",
    "months=df['MONTH']\n",
    "amount= df['PRCP']\n",
    "for i in range(len(years)):\n",
    "    if months[i] == \"01\":\n",
    "        for j in range(len(data)):\n",
    "            if years[i] == data[j][0]:\n",
    "                data[j] = [data[j][0],data[j][1]+amount[i]]\n",
    "                break\n",
    "print(data)"
   ]
  },
  {
   "cell_type": "code",
   "execution_count": null,
   "id": "59a79ef6",
   "metadata": {},
   "outputs": [],
   "source": [
    "newData = sorted(data, key=lambda l:l[1])\n",
    "for i in range(len(data)):\n",
    "    plt.bar(newData[i][0], newData[i][1])\n",
    "plt.xticks(rotation = 90,fontsize=8)\n",
    "plt.show()"
   ]
  },
  {
   "cell_type": "markdown",
   "id": "646c0d18",
   "metadata": {},
   "source": [
    " - How many days did we get both snow and rain?"
   ]
  },
  {
   "cell_type": "code",
   "execution_count": null,
   "id": "01b281c1",
   "metadata": {},
   "outputs": [],
   "source": [
    "count=0\n",
    "prcp = df['PRCP']\n",
    "snow = df['SNOW']\n",
    "for i in range(len(prcp)):\n",
    "    if (snow[i]/10) < prcp[i]:\n",
    "        count+=1\n",
    "print(count)"
   ]
  },
  {
   "cell_type": "markdown",
   "id": "d060ae3d",
   "metadata": {},
   "source": [
    " - What was the longest stretch of snow depth?"
   ]
  },
  {
   "cell_type": "code",
   "execution_count": null,
   "id": "3e71847e",
   "metadata": {},
   "outputs": [],
   "source": [
    "listy=[]\n",
    "dates=[]\n",
    "count=0\n",
    "snwd = df['SNWD']\n",
    "year= df['YEAR']\n",
    "month= df['MONTH']\n",
    "day = df['DAY']\n",
    "for i in range(len(snwd)):\n",
    "    if snwd[i] != 0:\n",
    "        count+=1\n",
    "    else:\n",
    "        if count!=0:\n",
    "            listy.append(count)\n",
    "            dates.append((year[i],month[i],day[i]))\n",
    "        count=0\n",
    "maxValue=0\n",
    "maxIdx=0\n",
    "for i in range(len(listy)):\n",
    "    if maxValue<listy[i]:\n",
    "        maxValue=listy[i]\n",
    "        maxIdx=i\n",
    "print('longest stretch of snow depth was', maxValue, 'ending at day', dates[maxIdx])"
   ]
  },
  {
   "cell_type": "markdown",
   "id": "81dc8800",
   "metadata": {},
   "source": [
    "### Temperature analysis\n"
   ]
  },
  {
   "cell_type": "markdown",
   "id": "76031105",
   "metadata": {},
   "source": [
    " - Which day(s) was there the largest gap between the min and max temperature? "
   ]
  },
  {
   "cell_type": "code",
   "execution_count": null,
   "id": "1374c28c",
   "metadata": {
    "scrolled": true
   },
   "outputs": [],
   "source": [
    "year=df['YEAR']\n",
    "month=df['MONTH']\n",
    "day=df['DAY']\n",
    "tmax=df['TMAX']\n",
    "tmin=df['TMIN']\n",
    "gap=tmax-tmin\n",
    "#print(gap)\n",
    "values=[]\n",
    "dates=[]\n",
    "uni=gap.unique()\n",
    "uni.sort()\n",
    "maxValue=uni[-2]\n",
    "for i in range(len(gap)):\n",
    "    if gap[i]==maxValue:\n",
    "        print('year',year[i],'month',month[i],'day',day[i])"
   ]
  },
  {
   "cell_type": "markdown",
   "id": "18c213f3",
   "metadata": {},
   "source": [
    "- Over the entire file, what is the average rate of change of the average temperature in a day's time.  On average in between each day, how much did the temperture change throughout the year.  We don't need to know what direction, but the magnitude."
   ]
  },
  {
   "cell_type": "code",
   "execution_count": null,
   "id": "fe5fe8e2",
   "metadata": {},
   "outputs": [],
   "source": [
    "df.dropna(subset=['TAVG'],inplace=True)\n",
    "day=df['DAY']\n",
    "tavg=df['TAVG']\n",
    "listy=[]\n",
    "for i in range(len(day)):\n",
    "    try:\n",
    "        listy.append(tavg[i]"
   ]
  },
  {
   "cell_type": "markdown",
   "id": "3caa622a",
   "metadata": {},
   "source": [
    " - Build a line graph comparrison of the min, max, and average temperatures over the span of the entire timeframe of the data."
   ]
  },
  {
   "cell_type": "code",
   "execution_count": 57,
   "id": "7584ef2a",
   "metadata": {},
   "outputs": [
    {
     "data": {
      "image/png": "[encoded data removed]",
      "text/plain": [
       "<Figure size 432x288 with 1 Axes>"
      ]
     },
     "metadata": {
      "needs_background": "light"
     },
     "output_type": "display_data"
    }
   ],
   "source": [
    "date=df['YEAR']\n",
    "tavg=df['TAVG']\n",
    "tmax=df['TMAX']\n",
    "tmin=df['TMIN']\n",
    "plt.plot(date,tmin,label='temperature min')\n",
    "plt.plot(date,tmax,label='temperature max')\n",
    "plt.plot(date,tavg,label='temperature average')\n",
    "plt.title('comparrison of the min, max, and average temperatures over the span of the entire timeframe')\n",
    "plt.xlabel('years')\n",
    "plt.ylabel('temperatures')\n",
    "plt.legend(bbox_to_anchor=(1.1,1.05))\n",
    "plt.xticks(rotation = 90,fontsize=8)\n",
    "plt.show()"
   ]
  },
  {
   "cell_type": "code",
   "execution_count": null,
   "id": "08f61c78",
   "metadata": {},
   "outputs": [],
   "source": []
  }
 ],
 "metadata": {
  "kernelspec": {
   "display_name": "Python 3 (ipykernel)",
   "language": "python",
   "name": "python3"
  },
  "language_info": {
   "codemirror_mode": {
    "name": "ipython",
    "version": 3
   },
   "file_extension": ".py",
   "mimetype": "text/x-python",
   "name": "python",
   "nbconvert_exporter": "python",
   "pygments_lexer": "ipython3",
   "version": "3.9.7"
  }
 },
 "nbformat": 4,
 "nbformat_minor": 5
}
