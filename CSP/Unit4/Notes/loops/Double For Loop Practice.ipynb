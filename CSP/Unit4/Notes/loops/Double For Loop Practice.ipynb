{
 "cells": [
  {
   "cell_type": "code",
   "execution_count": 4,
   "id": "0cb8ba53",
   "metadata": {},
   "outputs": [
    {
     "name": "stdout",
     "output_type": "stream",
     "text": [
      "00 01 02 03 04 05 06 07 08 09 \n",
      "10 11 12 13 14 15 16 17 18 19 \n",
      "20 21 22 23 24 25 26 27 28 29 \n",
      "30 31 32 33 34 35 36 37 38 39 \n",
      "40 41 42 43 44 45 46 47 48 49 \n",
      "50 51 52 53 54 55 56 57 58 59 \n",
      "60 61 62 63 64 65 66 67 68 69 \n",
      "70 71 72 73 74 75 76 77 78 79 \n",
      "80 81 82 83 84 85 86 87 88 89 \n",
      "90 91 92 93 94 95 96 97 98 99 \n"
     ]
    }
   ],
   "source": [
    "#grabbing the indexi horizontally\n",
    "for i in range(10):\n",
    "    for j in range(10):\n",
    "        print(f\"{i}{j}\",end=\" \")\n",
    "    print()"
   ]
  },
  {
   "cell_type": "code",
   "execution_count": 5,
   "id": "52fb3647",
   "metadata": {},
   "outputs": [
    {
     "name": "stdout",
     "output_type": "stream",
     "text": [
      "00 10 20 30 40 50 60 70 80 90 \n",
      "01 11 21 31 41 51 61 71 81 91 \n",
      "02 12 22 32 42 52 62 72 82 92 \n",
      "03 13 23 33 43 53 63 73 83 93 \n",
      "04 14 24 34 44 54 64 74 84 94 \n",
      "05 15 25 35 45 55 65 75 85 95 \n",
      "06 16 26 36 46 56 66 76 86 96 \n",
      "07 17 27 37 47 57 67 77 87 97 \n",
      "08 18 28 38 48 58 68 78 88 98 \n",
      "09 19 29 39 49 59 69 79 89 99 \n"
     ]
    }
   ],
   "source": [
    "#grabbing the indexi vertically\n",
    "for i in range(10):\n",
    "    for j in range(10):\n",
    "        print(f\"{j}{i}\",end=\" \")\n",
    "    print()"
   ]
  },
  {
   "cell_type": "code",
   "execution_count": 7,
   "id": "b4d1609a",
   "metadata": {},
   "outputs": [
    {
     "name": "stdout",
     "output_type": "stream",
     "text": [
      "[['M', 'A', 'T', 'P', 'L', 'O', 'T', 'L', 'I', 'B', 'O', 'G', 'T', 'R', 'C'], ['Z', 'Q', 'O', 'E', 'M', 'I', 'X', 'U', 'G', 'R', 'K', 'C', 'T', 'O', 'I'], ['B', 'I', 'N', 'A', 'R', 'Y', 'H', 'U', 'C', 'O', 'N', 'X', 'M', 'A', 'H'], ['U', 'P', 'S', 'E', 'S', 'O', 'Z', 'P', 'O', 'P', 'J', 'P', 'Z', 'F', 'K'], ['R', 'R', 'O', 'L', 'S', 'O', 'P', 'B', 'M', 'A', 'U', 'Q', 'O', 'X', 'L'], ['S', 'S', 'V', 'W', 'K', 'O', 'E', 'E', 'F', 'T', 'P', 'N', 'L', 'R', 'A'], ['H', 'A', 'L', 'H', 'E', 'T', 'C', 'L', 'E', 'B', 'Y', 'A', 'S', 'W', 'M'], ['P', 'H', 'D', 'O', 'O', 'R', 'G', 'R', 'Q', 'E', 'T', 'R', 'F', 'F', 'I'], ['G', 'D', 'F', 'N', 'Y', 'Q', 'S', 'B', 'B', 'C', 'E', 'C', 'S', 'A', 'C'], ['U', 'M', 'C', 'O', 'A', 'C', 'D', 'H', 'O', 'S', 'R', 'V', 'M', 'W', 'E'], ['H', 'T', 'A', 'L', 'I', 'P', 'L', 'W', 'E', 'T', 'M', 'L', 'U', 'W', 'D'], ['M', 'O', 'M', 'E', 'G', 'Q', 'K', 'H', 'M', 'L', 'O', 'U', 'H', 'O', 'A'], ['U', 'G', 'N', 'O', 'L', 'G', 'Y', 'X', 'U', 'M', 'L', 'M', 'G', 'S', 'X'], ['F', 'C', 'J', 'E', 'J', 'X', 'H', 'A', 'T', 'A', 'B', 'S', 'A', 'C', 'E'], ['E', 'I', 'U', 'H', 'N', 'Z', 'P', 'L', 'A', 'M', 'I', 'C', 'E', 'D', 'H']]\n"
     ]
    }
   ],
   "source": [
    "with open(\"Book1.csv\",\"r\") as f:\n",
    "    puzzle = f.readlines()\n",
    "    cleanPuzzle=[]\n",
    "    for line in puzzle:\n",
    "        #strip the \\n then split on the ,\n",
    "        temp=line.rstrip().split(\",\")\n",
    "        cleanPuzzle.append(temp)\n",
    "f.close()\n",
    "print(cleanPuzzle)"
   ]
  },
  {
   "cell_type": "code",
   "execution_count": 8,
   "id": "7d68ff93",
   "metadata": {},
   "outputs": [
    {
     "name": "stdout",
     "output_type": "stream",
     "text": [
      "M A T P L O T L I B O G T R C \n",
      "Z Q O E M I X U G R K C T O I \n",
      "B I N A R Y H U C O N X M A H \n",
      "U P S E S O Z P O P J P Z F K \n",
      "R R O L S O P B M A U Q O X L \n",
      "S S V W K O E E F T P N L R A \n",
      "H A L H E T C L E B Y A S W M \n",
      "P H D O O R G R Q E T R F F I \n",
      "G D F N Y Q S B B C E C S A C \n",
      "U M C O A C D H O S R V M W E \n",
      "H T A L I P L W E T M L U W D \n",
      "M O M E G Q K H M L O U H O A \n",
      "U G N O L G Y X U M L M G S X \n",
      "F C J E J X H A T A B S A C E \n",
      "E I U H N Z P L A M I C E D H \n"
     ]
    }
   ],
   "source": [
    "#grabbing the indexi horizontally\n",
    "for i in range(len(cleanPuzzle)):\n",
    "    for j in range(len(cleanPuzzle[i])):\n",
    "        print(f\"{cleanPuzzle[i][j]}\",end=\" \")\n",
    "    print()"
   ]
  },
  {
   "cell_type": "code",
   "execution_count": 9,
   "id": "91285ae0",
   "metadata": {},
   "outputs": [
    {
     "name": "stdout",
     "output_type": "stream",
     "text": [
      "M Z B U R S H P G U H M U F E \n",
      "A Q I P R S A H D M T O G C I \n",
      "T O N S O V L D F C A M N J U \n",
      "P E A E L W H O N O L E O E H \n",
      "L M R S S K E O Y A I G L J N \n",
      "O I Y O O O T R Q C P Q G X Z \n",
      "T X H Z P E C G S D L K Y H P \n",
      "L U U P B E L R B H W H X A L \n",
      "I G C O M F E Q B O E M U T A \n",
      "B R O P A T B E C S T L M A M \n",
      "O K N J U P Y T E R M O L B I \n",
      "G C X P Q N A R C V L U M S C \n",
      "T T M Z O L S F S M U H G A E \n",
      "R O A F X R W F A W W O S C D \n",
      "C I H K L A M I C E D A X E H \n"
     ]
    }
   ],
   "source": [
    "#grabbing the indexi vertically\n",
    "for i in range(len(cleanPuzzle)):\n",
    "    for j in range(len(cleanPuzzle[i])):\n",
    "        print(f\"{cleanPuzzle[j][i]}\",end=\" \")\n",
    "    print()"
   ]
  },
  {
   "cell_type": "code",
   "execution_count": 13,
   "id": "1b5fc71b",
   "metadata": {},
   "outputs": [
    {
     "name": "stdout",
     "output_type": "stream",
     "text": [
      "00 11 22 33 44 55 66 77 88 99 \n",
      "10 21 32 43 54 65 76 87 98 \n",
      "20 31 42 53 64 75 86 97 \n",
      "30 41 52 63 74 85 96 \n",
      "40 51 62 73 84 95 \n",
      "50 61 72 83 94 \n",
      "60 71 82 93 \n",
      "70 81 92 \n",
      "80 91 \n",
      "90 \n"
     ]
    }
   ],
   "source": [
    "#grabbing the indexi diagonally\n",
    "for i in range(10):\n",
    "    for j in range(10):\n",
    "        if i>=10 or j>10:\n",
    "            break\n",
    "        print(f\"{i}{j}\",end=\" \")\n",
    "        i+=1\n",
    "        j+=1\n",
    "    print()"
   ]
  },
  {
   "cell_type": "code",
   "execution_count": 20,
   "id": "df660f8c",
   "metadata": {},
   "outputs": [
    {
     "name": "stdout",
     "output_type": "stream",
     "text": [
      "M Q N E S O C R B S M U G C H \n",
      "Z I S L K T G B O T O M A D \n",
      "B P O W E R S H E L L S E \n",
      "U R V H O Q D W M M B C \n",
      "R S L O Y C L H U A I \n",
      "S A D N A P K X T M \n",
      "H H F O I Q Y A A \n",
      "P D C L G G H L \n",
      "G M A E L X P \n",
      "U T M O J Z \n",
      "H O N E N \n",
      "M G J H \n",
      "U C U \n",
      "F I \n",
      "E \n"
     ]
    }
   ],
   "source": [
    "#grabbing the indexi diagonally\n",
    "for i in range(len(cleanPuzzle)):\n",
    "    for j in range(len(cleanPuzzle[i])):\n",
    "        if i>=len(cleanPuzzle) or j>=len(cleanPuzzle[i]):\n",
    "            break\n",
    "        print(f\"{cleanPuzzle[i][j]}\",end=\" \")\n",
    "        i+=1\n",
    "        j+=1\n",
    "    print()"
   ]
  },
  {
   "cell_type": "code",
   "execution_count": 21,
   "id": "734551f1",
   "metadata": {},
   "outputs": [
    {
     "name": "stdout",
     "output_type": "stream",
     "text": [
      "M Q N E S O C R B S M U G C H \n",
      "A O A S O E L Q C R L H S E \n",
      "T E R O P E E E E V U O X \n",
      "P M Y Z B F B T C M W A \n",
      "L I H P M T Y R S W D \n",
      "O X U O A P A F A E \n",
      "T U C P U N S F C \n",
      "L G O J Q L W I \n",
      "I R N P O R M \n",
      "B K X Z X A \n",
      "O C M F L \n",
      "G T A K \n",
      "T O H \n",
      "R I \n",
      "C \n"
     ]
    }
   ],
   "source": [
    "#grabbing the indexi diagonally\n",
    "for i in range(len(cleanPuzzle)):\n",
    "    for j in range(len(cleanPuzzle[i])):\n",
    "        if i>=len(cleanPuzzle) or j>=len(cleanPuzzle[i]):\n",
    "            break\n",
    "        print(f\"{cleanPuzzle[j][i]}\",end=\" \")\n",
    "        i+=1\n",
    "        j+=1\n",
    "    print()"
   ]
  },
  {
   "cell_type": "code",
   "execution_count": null,
   "id": "c31d39d1",
   "metadata": {},
   "outputs": [],
   "source": []
  }
 ],
 "metadata": {
  "kernelspec": {
   "display_name": "Python 3 (ipykernel)",
   "language": "python",
   "name": "python3"
  },
  "language_info": {
   "codemirror_mode": {
    "name": "ipython",
    "version": 3
   },
   "file_extension": ".py",
   "mimetype": "text/x-python",
   "name": "python",
   "nbconvert_exporter": "python",
   "pygments_lexer": "ipython3",
   "version": "3.9.7"
  }
 },
 "nbformat": 4,
 "nbformat_minor": 5
}
