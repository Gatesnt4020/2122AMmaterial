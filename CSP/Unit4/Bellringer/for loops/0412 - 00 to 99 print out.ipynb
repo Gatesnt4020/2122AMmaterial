{
 "cells": [
  {
   "cell_type": "code",
   "execution_count": 13,
   "id": "f3ddbc88",
   "metadata": {},
   "outputs": [
    {
     "name": "stdout",
     "output_type": "stream",
     "text": [
      "00\t01\t02\t03\t04\t05\t06\t07\t08\t09\t\n",
      "10\t11\t12\t13\t14\t15\t16\t17\t18\t19\t\n",
      "20\t21\t22\t23\t24\t25\t26\t27\t28\t29\t\n",
      "30\t31\t32\t33\t34\t35\t36\t37\t38\t39\t\n",
      "40\t41\t42\t43\t44\t45\t46\t47\t48\t49\t\n",
      "50\t51\t52\t53\t54\t55\t56\t57\t58\t59\t\n",
      "60\t61\t62\t63\t64\t65\t66\t67\t68\t69\t\n",
      "70\t71\t72\t73\t74\t75\t76\t77\t78\t79\t\n",
      "80\t81\t82\t83\t84\t85\t86\t87\t88\t89\t\n",
      "90\t91\t92\t93\t94\t95\t96\t97\t98\t99\t\n"
     ]
    }
   ],
   "source": [
    "for i in range(10):\n",
    "    string=\"\"\n",
    "    for j in range(10):\n",
    "        string+=(str(i)+str(j)+\"\\t\")\n",
    "    print(string)"
   ]
  },
  {
   "cell_type": "code",
   "execution_count": null,
   "id": "26a70994",
   "metadata": {},
   "outputs": [],
   "source": []
  }
 ],
 "metadata": {
  "kernelspec": {
   "display_name": "Python 3 (ipykernel)",
   "language": "python",
   "name": "python3"
  },
  "language_info": {
   "codemirror_mode": {
    "name": "ipython",
    "version": 3
   },
   "file_extension": ".py",
   "mimetype": "text/x-python",
   "name": "python",
   "nbconvert_exporter": "python",
   "pygments_lexer": "ipython3",
   "version": "3.9.7"
  }
 },
 "nbformat": 4,
 "nbformat_minor": 5
}
