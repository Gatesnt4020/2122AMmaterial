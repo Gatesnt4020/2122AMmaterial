{
 "cells": [
  {
   "cell_type": "markdown",
   "id": "5d86d88e",
   "metadata": {},
   "source": [
    "### modle setting\n",
    "\n",
    "- wolf-gain-from-food = 20\n",
    "- show-energy? = FALse\n",
    "- wolf-reproduce = 5\n",
    "- initial-number-wolves = 50\n",
    "- initial-number-sheep = 100\n",
    "- model-version = sheep-wolfs\n",
    "- sheep-gain-from-food = 4\n",
    "- grass-regrowth-time = 30\n",
    "- sheep-reproduce = 4\n"
   ]
  },
  {
   "cell_type": "markdown",
   "id": "dbc1eb7c",
   "metadata": {},
   "source": [
    "### all dead\n",
    "\n",
    "- wolf-gain-from-food = 12\n",
    "- show-energy? = FALse\n",
    "- wolf-reproduce = 1\n",
    "- initial-number-wolves = 45\n",
    "- initial-number-sheep = 250\n",
    "- model-version = sheep-wolfs-grass\n",
    "- sheep-gain-from-food = 36\n",
    "- grass-regrowth-time = 100\n",
    "- sheep-reproduce = 20"
   ]
  },
  {
   "cell_type": "markdown",
   "id": "eee8af7c",
   "metadata": {},
   "source": [
    "### harmy\n",
    "\n",
    "- wolf-gain-from-food = 12\n",
    "- show-energy? = FALse\n",
    "- wolf-reproduce = 2\n",
    "- initial-number-wolves = 45\n",
    "- initial-number-sheep = 250\n",
    "- model-version = sheep-wolfs-grass\n",
    "- sheep-gain-from-food = 50\n",
    "- grass-regrowth-time = 100\n",
    "- sheep-reproduce = 10"
   ]
  },
  {
   "cell_type": "markdown",
   "id": "972f5526",
   "metadata": {},
   "source": [
    "### sheep win\n",
    "\n",
    "- wolf-gain-from-food = 0\n",
    "- show-energy? = FALse\n",
    "- wolf-reproduce = 0\n",
    "- initial-number-wolves = 250\n",
    "- initial-number-sheep = 250\n",
    "- model-version = sheep-wolfs-grass\n",
    "- sheep-gain-from-food = 50\n",
    "- grass-regrowth-time = 100\n",
    "- sheep-reproduce = 1"
   ]
  },
  {
   "cell_type": "code",
   "execution_count": null,
   "id": "2cf9277d",
   "metadata": {},
   "outputs": [],
   "source": []
  }
 ],
 "metadata": {
  "kernelspec": {
   "display_name": "Python 3 (ipykernel)",
   "language": "python",
   "name": "python3"
  },
  "language_info": {
   "codemirror_mode": {
    "name": "ipython",
    "version": 3
   },
   "file_extension": ".py",
   "mimetype": "text/x-python",
   "name": "python",
   "nbconvert_exporter": "python",
   "pygments_lexer": "ipython3",
   "version": "3.9.7"
  }
 },
 "nbformat": 4,
 "nbformat_minor": 5
}
