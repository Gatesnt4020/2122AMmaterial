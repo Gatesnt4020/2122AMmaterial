{
 "cells": [
  {
   "cell_type": "markdown",
   "id": "3c63b0de",
   "metadata": {},
   "source": [
    "Master Card VS Visa:  Starts with 4 = Visa; Starts with 5 = Mastercard"
   ]
  },
  {
   "cell_type": "code",
   "execution_count": null,
   "id": "57ae283b",
   "metadata": {},
   "outputs": [],
   "source": [
    "Cards = mockData[\"card\"]\n",
    "Master=0\n",
    "Visa=0\n",
    "\n",
    "for card in Cards:\n",
    "    cardfirst = card[0:]\n",
    "    print(cardfirst)"
   ]
  },
  {
   "cell_type": "markdown",
   "id": "d931e22e",
   "metadata": {},
   "source": [
    "Loads pandas and data from csv."
   ]
  },
  {
   "cell_type": "code",
   "execution_count": null,
   "id": "952ca063",
   "metadata": {},
   "outputs": [],
   "source": [
    "import pandas\n",
    "\n",
    "mockData = pandas.read_csv(\"./MOCK_DATA.csv\")"
   ]
  },
  {
   "cell_type": "markdown",
   "id": "1b832113",
   "metadata": {},
   "source": [
    "Creates data list and grabs all the unique companies, appending their name and a value of 0 in a 2d list."
   ]
  },
  {
   "cell_type": "code",
   "execution_count": null,
   "id": "db6e1ebf",
   "metadata": {},
   "outputs": [],
   "source": [
    "data = []\n",
    "\n",
    "unq = mockData.company.unique()\n",
    "unq.sort()\n",
    "for i in unq:\n",
    "    data.append([i, 0])"
   ]
  },
  {
   "cell_type": "markdown",
   "id": "64bad4dc",
   "metadata": {},
   "source": [
    "This loads data from pandas using their headers and loops through the companies, comparing it to data. If the companies name is the same as the name listed in data, it adds that amount spent to that company.\n",
    "\n",
    "If you want to remove fake IPs, set rFIPs (removeFakeIPs) to true."
   ]
  },
  {
   "cell_type": "code",
   "execution_count": null,
   "id": "e51d4ad9",
   "metadata": {},
   "outputs": [],
   "source": [
    "companies = mockData[\"company\"]\n",
    "amount = mockData[\"cost\"]\n",
    "ip = mockData[\"ip\"]\n",
    "\n",
    "#removes fake IPs\n",
    "rFIPs = True\n",
    "\n",
    "print(\"This may take a second...\")\n",
    "for i in range(len(companies)):\n",
    "    if rFIPs and not (ip[i].startswith(\"0\") or ip[i].startswith(\"192\") or ip[i].startswith(\"127\") or ip[i].startswith(\"255\")):\n",
    "        for j in range(len(data)):\n",
    "            if companies[i] == data[j][0]:\n",
    "                data[j] = [data[j][0], data[j][1] + amount[i]]\n",
    "                break\n",
    "print(\"Done.\")"
   ]
  },
  {
   "cell_type": "markdown",
   "id": "36fa4c47",
   "metadata": {},
   "source": [
    "Takes all the amounts from data and adds it to the total variable."
   ]
  },
  {
   "cell_type": "code",
   "execution_count": null,
   "id": "3490a13a",
   "metadata": {},
   "outputs": [],
   "source": [
    "total = 0\n",
    "for i in data:\n",
    "    total+=i[1]"
   ]
  },
  {
   "cell_type": "markdown",
   "id": "7f4f69bc",
   "metadata": {},
   "source": [
    "Just prints out all the data we loaded and sorted through."
   ]
  },
  {
   "cell_type": "code",
   "execution_count": null,
   "id": "3587ca0a",
   "metadata": {},
   "outputs": [],
   "source": [
    "#print(data) Uncomment if you want to see all the data per company.\n",
    "#https://pythonguides.com/python-format-number-with-commas/\n",
    "print(\"\\nTotal:\",\"{:,}\".format(round(total)))"
   ]
  },
  {
   "cell_type": "markdown",
   "id": "af5a63b4",
   "metadata": {},
   "source": [
    "This takes the data and displays it in a chart form."
   ]
  },
  {
   "cell_type": "code",
   "execution_count": null,
   "id": "941cd61e",
   "metadata": {},
   "outputs": [],
   "source": [
    "import matplotlib.pyplot as plt\n",
    "\n",
    "#https://stackoverflow.com/questions/18563680/sorting-2d-list-python\n",
    "newData = sorted(data, key=lambda l:l[1])\n",
    "for i in range(len(newData)):\n",
    "    if i < 20:\n",
    "        plt.bar(newData[i][0], newData[i][1])\n",
    "    elif i < 21:\n",
    "        plt.xticks(rotation = 90)\n",
    "        plt.show()\n",
    "    elif (i > len(newData)-20):\n",
    "        plt.bar(newData[i][0], newData[i][1])\n",
    "plt.xticks(rotation = 90)\n",
    "plt.show()"
   ]
  },
  {
   "cell_type": "markdown",
   "id": "7ca77ed4",
   "metadata": {},
   "source": [
    "Searching through The IP's"
   ]
  },
  {
   "cell_type": "code",
   "execution_count": null,
   "id": "73ee28fb",
   "metadata": {},
   "outputs": [],
   "source": [
    "import pandas\n",
    "mockData = pandas.read_csv(\"./MOCK_DATAIP.csv\")\n"
   ]
  },
  {
   "cell_type": "markdown",
   "id": "9d696088",
   "metadata": {},
   "source": [
    "Seeing how many student's purchases were made "
   ]
  },
  {
   "cell_type": "markdown",
   "id": "b640f2ba",
   "metadata": {},
   "source": [
    "Loads pandas and data from csv."
   ]
  },
  {
   "cell_type": "code",
   "execution_count": null,
   "id": "4c3131a4",
   "metadata": {},
   "outputs": [],
   "source": [
    "import pandas\n",
    "mockData = pandas.read_csv(\"MOCK_DATA.csv\")"
   ]
  },
  {
   "cell_type": "markdown",
   "id": "e4fc7724",
   "metadata": {},
   "source": [
    "Creates data list and grabs all the unique companies, appending their name and a value of 0 in a 2d list."
   ]
  },
  {
   "cell_type": "markdown",
   "id": "28e6379b",
   "metadata": {},
   "source": [
    "This loads data from pandas using their headers and loops through the companies, compairng it to data. If the comapnies name is the same as the name listed in data, it adds that amount spent to that company.\n",
    "\n",
    "If you want to remove non edu emails, set rNEDU (removeNonEDU) to true"
   ]
  },
  {
   "cell_type": "code",
   "execution_count": null,
   "id": "9b60320f",
   "metadata": {},
   "outputs": [],
   "source": [
    "companies = mockData[\"company\"]\n",
    "amount = mockData[\"cost\"]\n",
    "emails = mockData[\"email\"]\n",
    "\n",
    "rNEDU = True\n",
    "\n",
    "for i in range(len(companies)):\n",
    "    if rNEDU and \"edu\" in emails[i]:\n",
    "        for j in range(len(data)):\n",
    "            if companies[i] == data[j][0]:\n",
    "                data[j] = [data[j][0], data[j][1] + amount[i]]\n",
    "                break"
   ]
  },
  {
   "cell_type": "markdown",
   "id": "436a18b0",
   "metadata": {},
   "source": [
    "Takes all the amounts from data and adds it to the total variable."
   ]
  },
  {
   "cell_type": "code",
   "execution_count": null,
   "id": "07c62aad",
   "metadata": {},
   "outputs": [],
   "source": [
    "total = 0\n",
    "for i in data:\n",
    "    total+=i[1]"
   ]
  },
  {
   "cell_type": "markdown",
   "id": "e50da671",
   "metadata": {},
   "source": [
    "Just prints out all the data we loaded and sorted through."
   ]
  },
  {
   "cell_type": "code",
   "execution_count": null,
   "id": "0843c4ed",
   "metadata": {},
   "outputs": [],
   "source": [
    "print(\"\\nTotal:\",\"{:,}\".format(round(total)))"
   ]
  },
  {
   "cell_type": "markdown",
   "id": "9e0d6753",
   "metadata": {},
   "source": [
    "This takes the data and displays it in a chart form."
   ]
  },
  {
   "cell_type": "code",
   "execution_count": null,
   "id": "b0f2fab5",
   "metadata": {},
   "outputs": [],
   "source": [
    "import matplotlib.pyplot as plt\n",
    "\n",
    "#https://stackoverflow.com/questions/18563680/sorting-2d-list-python\n",
    "newData = sorted(data, key=lambda l:l[1], reverse=True)\n",
    "for i in range(len(newData)):\n",
    "    if i < 20:\n",
    "        plt.bar(newData[i][0], newData[i][1])\n",
    "    elif i < 21:\n",
    "        plt.xticks(rotation = 90)\n",
    "        break\n",
    "        \n",
    "        \n",
    "plt.xticks(rotation = 90)\n",
    "plt.show()"
   ]
  }
 ],
 "metadata": {
  "kernelspec": {
   "display_name": "Python 3 (ipykernel)",
   "language": "python",
   "name": "python3"
  },
  "language_info": {
   "codemirror_mode": {
    "name": "ipython",
    "version": 3
   },
   "file_extension": ".py",
   "mimetype": "text/x-python",
   "name": "python",
   "nbconvert_exporter": "python",
   "pygments_lexer": "ipython3",
   "version": "3.9.7"
  }
 },
 "nbformat": 4,
 "nbformat_minor": 5
}
