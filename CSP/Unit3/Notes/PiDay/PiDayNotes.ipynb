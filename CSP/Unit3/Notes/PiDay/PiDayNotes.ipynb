{
 "cells": [
  {
   "cell_type": "code",
   "execution_count": 202,
   "id": "9c167579",
   "metadata": {},
   "outputs": [
    {
     "name": "stdout",
     "output_type": "stream",
     "text": [
      "Hello World!\n"
     ]
    }
   ],
   "source": [
    "print(\"Hello World!\")"
   ]
  },
  {
   "cell_type": "code",
   "execution_count": 215,
   "id": "2aa3d02d",
   "metadata": {},
   "outputs": [
    {
     "name": "stdout",
     "output_type": "stream",
     "text": [
      "Ctrl+Enter will run the cell\n"
     ]
    }
   ],
   "source": [
    "print(\"Ctrl+Enter will run the cell\")"
   ]
  },
  {
   "cell_type": "code",
   "execution_count": 216,
   "id": "2abbe92e",
   "metadata": {},
   "outputs": [
    {
     "name": "stdout",
     "output_type": "stream",
     "text": [
      "Shift+Enter will run and enter a new cell\n",
      "Alt+Enter will run and enter a new cell\n"
     ]
    }
   ],
   "source": [
    "print(\"Shift+Enter will run and enter a new cell\")\n",
    "print(\"Alt+Enter will run and enter a new cell\")"
   ]
  },
  {
   "cell_type": "markdown",
   "id": "b27dd071",
   "metadata": {},
   "source": [
    "If we type here, it is like typing into a text file.... kind of "
   ]
  },
  {
   "cell_type": "markdown",
   "id": "373af320",
   "metadata": {},
   "source": [
    "# This is a header tag\n",
    "\n",
    "# Nilakantha Series"
   ]
  },
  {
   "cell_type": "markdown",
   "id": "195e788b",
   "metadata": {},
   "source": [
    "Equation = 4/(n(n+1)(n+2))"
   ]
  },
  {
   "cell_type": "code",
   "execution_count": 218,
   "id": "93e351a8",
   "metadata": {},
   "outputs": [
    {
     "name": "stdout",
     "output_type": "stream",
     "text": [
      "3.141592653589793\n"
     ]
    }
   ],
   "source": [
    "import math\n",
    "print(math.pi)"
   ]
  },
  {
   "cell_type": "code",
   "execution_count": 234,
   "id": "eef65e3a",
   "metadata": {},
   "outputs": [],
   "source": [
    "def nilakantah(reps):\n",
    "    #reps is iterations\n",
    "    i=2\n",
    "    op=1 #opposite\n",
    "    result=0\n",
    "    for i in range(2,2*reps+1,2):\n",
    "        result+=4/(i*(i+1)*(i+2)*op)\n",
    "        op*=-1\n",
    "    return 3+result\n"
   ]
  },
  {
   "cell_type": "code",
   "execution_count": 235,
   "id": "672f09fb",
   "metadata": {},
   "outputs": [
    {
     "name": "stdout",
     "output_type": "stream",
     "text": [
      "3.1415924109719806\n"
     ]
    }
   ],
   "source": [
    "print(nilakantah(100))"
   ]
  },
  {
   "cell_type": "markdown",
   "id": "5d45a355",
   "metadata": {},
   "source": [
    "# MonteCarlo"
   ]
  },
  {
   "cell_type": "code",
   "execution_count": null,
   "id": "29b75e0b",
   "metadata": {},
   "outputs": [],
   "source": []
  }
 ],
 "metadata": {
  "kernelspec": {
   "display_name": "Python 3 (ipykernel)",
   "language": "python",
   "name": "python3"
  },
  "language_info": {
   "codemirror_mode": {
    "name": "ipython",
    "version": 3
   },
   "file_extension": ".py",
   "mimetype": "text/x-python",
   "name": "python",
   "nbconvert_exporter": "python",
   "pygments_lexer": "ipython3",
   "version": "3.9.7"
  }
 },
 "nbformat": 4,
 "nbformat_minor": 5
}
