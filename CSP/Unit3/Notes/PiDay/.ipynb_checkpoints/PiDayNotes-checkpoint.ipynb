{
 "cells": [
  {
   "cell_type": "code",
   "execution_count": 202,
   "id": "9d99855d",
   "metadata": {},
   "outputs": [
    {
     "name": "stdout",
     "output_type": "stream",
     "text": [
      "Hello World!\n"
     ]
    }
   ],
   "source": [
    "print(\"Hello World!\")"
   ]
  },
  {
   "cell_type": "code",
   "execution_count": 215,
   "id": "8f7ebb09",
   "metadata": {},
   "outputs": [
    {
     "name": "stdout",
     "output_type": "stream",
     "text": [
      "Ctrl+Enter will run the cell\n"
     ]
    }
   ],
   "source": [
    "print(\"Ctrl+Enter will run the cell\")"
   ]
  },
  {
   "cell_type": "code",
   "execution_count": 216,
   "id": "a3b426ef",
   "metadata": {},
   "outputs": [
    {
     "name": "stdout",
     "output_type": "stream",
     "text": [
      "Shift+Enter will run and enter a new cell\n",
      "Alt+Enter will run and enter a new cell\n"
     ]
    }
   ],
   "source": [
    "print(\"Shift+Enter will run and enter a new cell\")\n",
    "print(\"Alt+Enter will run and enter a new cell\")"
   ]
  },
  {
   "cell_type": "markdown",
   "id": "953a9b13",
   "metadata": {},
   "source": [
    "If we type here, it is like typing into a text file.... kind of "
   ]
  },
  {
   "cell_type": "markdown",
   "id": "f4c88a81",
   "metadata": {},
   "source": [
    "# This is a header tag\n",
    "\n",
    "# Nilakantha Series"
   ]
  },
  {
   "cell_type": "markdown",
   "id": "556c88ea",
   "metadata": {},
   "source": [
    "Equation = 4/(n(n+1)(n+2))"
   ]
  },
  {
   "cell_type": "code",
   "execution_count": 218,
   "id": "40142361",
   "metadata": {},
   "outputs": [
    {
     "name": "stdout",
     "output_type": "stream",
     "text": [
      "3.141592653589793\n"
     ]
    }
   ],
   "source": [
    "import math\n",
    "print(math.pi)"
   ]
  },
  {
   "cell_type": "code",
   "execution_count": null,
   "id": "20c98f4a",
   "metadata": {},
   "outputs": [],
   "source": [
    "def nilakantah(reps):\n",
    "    #reps is iterations\n",
    "    i=2\n",
    "    op=1 #opposite\n",
    "    result=0\n",
    "    for i in range(2,2*reps+1,2):\n",
    "        result+=4/(i*(i+1)*(i+2)*op)\n",
    "        op*=-1\n",
    "    return 3+result\n"
   ]
  },
  {
   "cell_type": "code",
   "execution_count": 233,
   "id": "46424e8b",
   "metadata": {},
   "outputs": [
    {
     "ename": "NameError",
     "evalue": "name 'nilakantah1' is not defined",
     "output_type": "error",
     "traceback": [
      "\u001b[1;31m---------------------------------------------------------------------------\u001b[0m",
      "\u001b[1;31mNameError\u001b[0m                                 Traceback (most recent call last)",
      "\u001b[1;32mC:\\Users\\YOUNGL~1\\AppData\\Local\\Temp/ipykernel_12264/265934564.py\u001b[0m in \u001b[0;36m<module>\u001b[1;34m\u001b[0m\n\u001b[1;32m----> 1\u001b[1;33m \u001b[0mprint\u001b[0m\u001b[1;33m(\u001b[0m\u001b[0mnilakantah1\u001b[0m\u001b[1;33m(\u001b[0m\u001b[1;36m100\u001b[0m\u001b[1;33m)\u001b[0m\u001b[1;33m)\u001b[0m\u001b[1;33m\u001b[0m\u001b[1;33m\u001b[0m\u001b[0m\n\u001b[0m",
      "\u001b[1;31mNameError\u001b[0m: name 'nilakantah1' is not defined"
     ]
    }
   ],
   "source": [
    "print(nilakantah(100))"
   ]
  },
  {
   "cell_type": "code",
   "execution_count": null,
   "id": "751920f3",
   "metadata": {},
   "outputs": [],
   "source": []
  }
 ],
 "metadata": {
  "kernelspec": {
   "display_name": "Python 3 (ipykernel)",
   "language": "python",
   "name": "python3"
  },
  "language_info": {
   "codemirror_mode": {
    "name": "ipython",
    "version": 3
   },
   "file_extension": ".py",
   "mimetype": "text/x-python",
   "name": "python",
   "nbconvert_exporter": "python",
   "pygments_lexer": "ipython3",
   "version": "3.9.7"
  }
 },
 "nbformat": 4,
 "nbformat_minor": 5
}
