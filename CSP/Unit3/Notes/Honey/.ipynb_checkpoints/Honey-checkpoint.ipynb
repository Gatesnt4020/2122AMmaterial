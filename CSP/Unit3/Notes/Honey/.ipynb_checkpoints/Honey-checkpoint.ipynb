{
 "cells": [
  {
   "cell_type": "code",
   "execution_count": 12,
   "id": "f6781205",
   "metadata": {},
   "outputs": [],
   "source": [
    "#open and print the file \n",
    "import pandas as pd\n",
    "import matplotlib.pyplot as plt\n",
    "df = pd.read_csv(\"honey.csv\",header=0)\n",
    "#print(df)\n",
    "\n",
    "#Clean Data Cell\n",
    "#the line below is how we would have done it before.\n",
    "#df['Value'] = df['Value'].replace(\"(D)\",math.nan)\n",
    "\n",
    "#replace the \",\" with \"\"\n",
    "#in the value collum, I'm running the string method replace on each value to replace the , with a \"\"\n",
    "df['Value'] = df['Value'].str.replace(\",\",\"\")\n",
    "\n",
    "#go through the Value colum ad convert everthing to a number\n",
    "df['Value'] = pd.to_numeric(df['Value'],errors='coerce')\n",
    "\n",
    "#drop stuff that is't a number\n",
    "df.dropna(subset=['Value'], inplace=True)\n",
    "\n",
    "#print(df)"
   ]
  },
  {
   "cell_type": "code",
   "execution_count": 13,
   "id": "4d59f49f",
   "metadata": {},
   "outputs": [],
   "source": [
    "#Show honey production levels over the years,state by state\n",
    "#colums we need are Year, State, and the Value\n",
    "\n",
    "#before we grabbed all the unique countries then iterate ovet the data\n",
    "#pandas has a cool trick called groupby\n",
    "allHoney=[]\n",
    "allStates=[]\n",
    "uniqueStates = df['State'].unique()\n",
    "\n",
    "#without grouping \n",
    "for state in uniqueStates:\n",
    "    honey = df[df['State'] ==state]['Value']   #creates a new data set\n",
    "    print(state,honey.sum())\n",
    "    allhoney.append(honey.sum())\n",
    "    allState.append(state)\n"
   ]
  },
  {
   "cell_type": "code",
   "execution_count": null,
   "id": "6cf0d5ed",
   "metadata": {},
   "outputs": [],
   "source": []
  }
 ],
 "metadata": {
  "kernelspec": {
   "display_name": "Python 3 (ipykernel)",
   "language": "python",
   "name": "python3"
  },
  "language_info": {
   "codemirror_mode": {
    "name": "ipython",
    "version": 3
   },
   "file_extension": ".py",
   "mimetype": "text/x-python",
   "name": "python",
   "nbconvert_exporter": "python",
   "pygments_lexer": "ipython3",
   "version": "3.9.7"
  }
 },
 "nbformat": 4,
 "nbformat_minor": 5
}
