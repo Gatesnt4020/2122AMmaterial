{
 "cells": [
  {
   "cell_type": "code",
   "execution_count": 2,
   "id": "9d7a570c",
   "metadata": {},
   "outputs": [],
   "source": [
    "import glob\n",
    "import matplotlib.pyplot as plt"
   ]
  },
  {
   "cell_type": "markdown",
   "id": "fd0b6d34",
   "metadata": {},
   "source": [
    "1st thing we have to do.\n",
    "Go clean the data.\n",
    "Make sure that your folders are set up so that you pull form the data\n",
    "    and youa save the clean data in an out folder"
   ]
  },
  {
   "cell_type": "code",
   "execution_count": 3,
   "id": "b98ccbd6",
   "metadata": {},
   "outputs": [],
   "source": [
    "def makeFiles(name):\n",
    "    #relative file path => the path from your file to another file\n",
    "    #open the original files\n",
    "    with open(f\"data/{name}\",\"r\",encoding=\"utf-8\") as f:\n",
    "        file = f.readlines()\n",
    "        \n",
    "    #print(file)\n",
    "\n",
    "    #reducedFile is to save the smaller version of the book\n",
    "    reducedFile=[]\n",
    "    for line in file:\n",
    "        if line != \"\\n\":\n",
    "            reducedFile.append(line)\n",
    "\n",
    "    #print(reducedFile)\n",
    "    \n",
    "    #to save the reduced file in a new directory\n",
    "    with open(f\"out/{name}\",\"w+\",encoding=\"utf-8\") as f:\n",
    "        for line in reducedFile:\n",
    "            f.write(line)\n"
   ]
  },
  {
   "cell_type": "code",
   "execution_count": 4,
   "id": "e1952ed8",
   "metadata": {},
   "outputs": [],
   "source": [
    "books = (glob.glob(\"data/*.txt\"))       #* stands for wildcard\n",
    "\n",
    "bookList=[]\n",
    "for b in books:\n",
    "    bookList.append(b[5:])\n",
    "\n",
    "for i in range(len(bookList)):\n",
    "    makeFiles(bookList[i])\n",
    "    \n",
    "#Going to find the page count\n",
    "cleanBookList=glob.glob(\"out/*.txt\")\n",
    "bookList=[]\n",
    "for b in cleanBookList:\n",
    "    bookList.append(b[4:])"
   ]
  },
  {
   "cell_type": "markdown",
   "id": "1cce0d5f",
   "metadata": {},
   "source": [
    "# Find the page count of each book"
   ]
  },
  {
   "cell_type": "code",
   "execution_count": 5,
   "id": "11b317fc",
   "metadata": {},
   "outputs": [],
   "source": [
    "def pageNumber(FILENAME):\n",
    "    with open(f\"out/{FILENAME}\",\"r\",encoding=\"utf-8\") as f:\n",
    "        file = f.readlines()\n",
    "        lastLine=(file[-1])\n",
    "        #find the numbers in the lastLine\n",
    "        number=\"\"\n",
    "        for i in range(len(file)):\n",
    "            for letter in lastLine:\n",
    "                if letter.isdigit():\n",
    "                    number+=letter\n",
    "            if number !=\"\":\n",
    "                return int(number)\n",
    "            lastLine=file[-i]"
   ]
  },
  {
   "cell_type": "code",
   "execution_count": 6,
   "id": "9b4662b2",
   "metadata": {},
   "outputs": [],
   "source": [
    "pageCount=[]\n",
    "#Loop through the books, find the number of pages in each book,\n",
    "#       and graph this in a graph\n",
    "for i in range(len(bookList)):\n",
    "    pageCount.append(pageNumber(bookList[i]))"
   ]
  },
  {
   "cell_type": "code",
   "execution_count": 22,
   "id": "a201e662",
   "metadata": {},
   "outputs": [
    {
     "ename": "SyntaxError",
     "evalue": "positional argument follows keyword argument (Temp/ipykernel_7792/3980791626.py, line 7)",
     "output_type": "error",
     "traceback": [
      "\u001b[1;36m  File \u001b[1;32m\"C:\\Users\\YOUNGL~1\\AppData\\Local\\Temp/ipykernel_7792/3980791626.py\"\u001b[1;36m, line \u001b[1;32m7\u001b[0m\n\u001b[1;33m    plt.pie(pageCount,labels=titles,autopct='%1.1f%%',colors='r',text.set_colors('blue'))\u001b[0m\n\u001b[1;37m                                                                                        ^\u001b[0m\n\u001b[1;31mSyntaxError\u001b[0m\u001b[1;31m:\u001b[0m positional argument follows keyword argument\n"
     ]
    }
   ],
   "source": [
    "titles=[1,2,3,4,5,6,7]\n",
    "plt.bar(titles,pageCount)\n",
    "plt.title(\"Num of Pages in each HP Book\")\n",
    "plt.xlabel(\"Book #\")\n",
    "plt.ylabel(\"Page Count\")\n",
    "plt.show()\n",
    "plt.pie(pageCount,labels=titles,autopct='%1.1f%%',colors='r')\n",
    "plt.show()"
   ]
  },
  {
   "cell_type": "code",
   "execution_count": null,
   "id": "c184bd65",
   "metadata": {},
   "outputs": [],
   "source": []
  }
 ],
 "metadata": {
  "kernelspec": {
   "display_name": "Python 3 (ipykernel)",
   "language": "python",
   "name": "python3"
  },
  "language_info": {
   "codemirror_mode": {
    "name": "ipython",
    "version": 3
   },
   "file_extension": ".py",
   "mimetype": "text/x-python",
   "name": "python",
   "nbconvert_exporter": "python",
   "pygments_lexer": "ipython3",
   "version": "3.9.7"
  }
 },
 "nbformat": 4,
 "nbformat_minor": 5
}
